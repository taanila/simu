{
 "cells": [
  {
   "cell_type": "code",
   "execution_count": 1,
   "metadata": {},
   "outputs": [],
   "source": [
    "import pandas as pd\n",
    "import numpy as np\n",
    "import matplotlib.pyplot as plt\n",
    "\n",
    "%matplotlib inline"
   ]
  },
  {
   "cell_type": "markdown",
   "metadata": {},
   "source": [
    "<h1>Todennäköisyysjakauma</h1>\n",
    "\n",
    "Kahden kolikon heitossa tuloksena voi olla ei yhtään, 1 tai 2 klaavaa. Jos kahta kolikkoa heitetään 100 kertaa ja kirjataan muistiin klaavojen lukumäärä kullakin heittokerralla, niin tuloksena voi olla esimerkiksi (tässä suoritan kolikonheiton simuloimalla):"
   ]
  },
  {
   "cell_type": "code",
   "execution_count": 2,
   "metadata": {},
   "outputs": [
    {
     "data": {
      "text/html": [
       "<div>\n",
       "<style scoped>\n",
       "    .dataframe tbody tr th:only-of-type {\n",
       "        vertical-align: middle;\n",
       "    }\n",
       "\n",
       "    .dataframe tbody tr th {\n",
       "        vertical-align: top;\n",
       "    }\n",
       "\n",
       "    .dataframe thead th {\n",
       "        text-align: right;\n",
       "    }\n",
       "</style>\n",
       "<table border=\"1\" class=\"dataframe\">\n",
       "  <thead>\n",
       "    <tr style=\"text-align: right;\">\n",
       "      <th></th>\n",
       "      <th>kolikko1</th>\n",
       "      <th>kolikko2</th>\n",
       "      <th>klaavoja</th>\n",
       "    </tr>\n",
       "  </thead>\n",
       "  <tbody>\n",
       "    <tr>\n",
       "      <th>0</th>\n",
       "      <td>0</td>\n",
       "      <td>1</td>\n",
       "      <td>1</td>\n",
       "    </tr>\n",
       "    <tr>\n",
       "      <th>1</th>\n",
       "      <td>1</td>\n",
       "      <td>1</td>\n",
       "      <td>2</td>\n",
       "    </tr>\n",
       "    <tr>\n",
       "      <th>2</th>\n",
       "      <td>0</td>\n",
       "      <td>1</td>\n",
       "      <td>1</td>\n",
       "    </tr>\n",
       "    <tr>\n",
       "      <th>3</th>\n",
       "      <td>1</td>\n",
       "      <td>1</td>\n",
       "      <td>2</td>\n",
       "    </tr>\n",
       "    <tr>\n",
       "      <th>4</th>\n",
       "      <td>0</td>\n",
       "      <td>0</td>\n",
       "      <td>0</td>\n",
       "    </tr>\n",
       "    <tr>\n",
       "      <th>...</th>\n",
       "      <td>...</td>\n",
       "      <td>...</td>\n",
       "      <td>...</td>\n",
       "    </tr>\n",
       "    <tr>\n",
       "      <th>95</th>\n",
       "      <td>0</td>\n",
       "      <td>1</td>\n",
       "      <td>1</td>\n",
       "    </tr>\n",
       "    <tr>\n",
       "      <th>96</th>\n",
       "      <td>1</td>\n",
       "      <td>1</td>\n",
       "      <td>2</td>\n",
       "    </tr>\n",
       "    <tr>\n",
       "      <th>97</th>\n",
       "      <td>0</td>\n",
       "      <td>1</td>\n",
       "      <td>1</td>\n",
       "    </tr>\n",
       "    <tr>\n",
       "      <th>98</th>\n",
       "      <td>0</td>\n",
       "      <td>1</td>\n",
       "      <td>1</td>\n",
       "    </tr>\n",
       "    <tr>\n",
       "      <th>99</th>\n",
       "      <td>1</td>\n",
       "      <td>1</td>\n",
       "      <td>2</td>\n",
       "    </tr>\n",
       "  </tbody>\n",
       "</table>\n",
       "<p>100 rows × 3 columns</p>\n",
       "</div>"
      ],
      "text/plain": [
       "    kolikko1  kolikko2  klaavoja\n",
       "0          0         1         1\n",
       "1          1         1         2\n",
       "2          0         1         1\n",
       "3          1         1         2\n",
       "4          0         0         0\n",
       "..       ...       ...       ...\n",
       "95         0         1         1\n",
       "96         1         1         2\n",
       "97         0         1         1\n",
       "98         0         1         1\n",
       "99         1         1         2\n",
       "\n",
       "[100 rows x 3 columns]"
      ]
     },
     "execution_count": 2,
     "metadata": {},
     "output_type": "execute_result"
    }
   ],
   "source": [
    "# Arvon nollia ja ykkösiä:\n",
    "heitot = pd.DataFrame({'kolikko1':np.random.randint(0, 2, 100), \n",
    "                       'kolikko2':np.random.randint(0, 2, 100)})\n",
    "\n",
    "heitot['klaavoja'] = heitot['kolikko1'] + heitot['kolikko2'] \n",
    "heitot"
   ]
  },
  {
   "cell_type": "markdown",
   "metadata": {},
   "source": [
    "Edellisestä voin laskea osuudet klaavojen lukumäärille:"
   ]
  },
  {
   "cell_type": "code",
   "execution_count": 3,
   "metadata": {},
   "outputs": [
    {
     "data": {
      "text/html": [
       "<div>\n",
       "<style scoped>\n",
       "    .dataframe tbody tr th:only-of-type {\n",
       "        vertical-align: middle;\n",
       "    }\n",
       "\n",
       "    .dataframe tbody tr th {\n",
       "        vertical-align: top;\n",
       "    }\n",
       "\n",
       "    .dataframe thead th {\n",
       "        text-align: right;\n",
       "    }\n",
       "</style>\n",
       "<table border=\"1\" class=\"dataframe\">\n",
       "  <thead>\n",
       "    <tr style=\"text-align: right;\">\n",
       "      <th></th>\n",
       "      <th>Osuus</th>\n",
       "    </tr>\n",
       "    <tr>\n",
       "      <th>klaavoja</th>\n",
       "      <th></th>\n",
       "    </tr>\n",
       "  </thead>\n",
       "  <tbody>\n",
       "    <tr>\n",
       "      <th>0</th>\n",
       "      <td>0.22</td>\n",
       "    </tr>\n",
       "    <tr>\n",
       "      <th>1</th>\n",
       "      <td>0.48</td>\n",
       "    </tr>\n",
       "    <tr>\n",
       "      <th>2</th>\n",
       "      <td>0.30</td>\n",
       "    </tr>\n",
       "  </tbody>\n",
       "</table>\n",
       "</div>"
      ],
      "text/plain": [
       "          Osuus\n",
       "klaavoja       \n",
       "0          0.22\n",
       "1          0.48\n",
       "2          0.30"
      ]
     },
     "execution_count": 3,
     "metadata": {},
     "output_type": "execute_result"
    }
   ],
   "source": [
    "klaavoja = pd.crosstab(heitot['klaavoja'], columns = 'Osuus', normalize = True)\n",
    "klaavoja.columns.name = ''\n",
    "klaavoja"
   ]
  },
  {
   "cell_type": "markdown",
   "metadata": {},
   "source": [
    "Yllä laskettua klaavojen lukumäärän jakaumaa voidaan kutsua <b>empiiriseksi jakaumaksi</b>. \n",
    "\n",
    "Mahdollisia tuloksia kahden kolikon heitossa ovat:\n",
    "<ul>\n",
    "<li>'kruunu-kruunu'</li>\n",
    "<li>'kruunu-klaava'</li> \n",
    "<li>'klaava-kruunu'</li>\n",
    "<li>'klaava-klaava'.</li>\n",
    "</ul>\n",
    "    \n",
    "Koska jokainen tulosvaihtoehto on yhtä todennäköinen, niin voimme päätellä klaavojen lukumäärän <b>teoreettiseksi jakaumaksi</b>:"
   ]
  },
  {
   "cell_type": "code",
   "execution_count": 4,
   "metadata": {},
   "outputs": [
    {
     "data": {
      "text/html": [
       "<div>\n",
       "<style scoped>\n",
       "    .dataframe tbody tr th:only-of-type {\n",
       "        vertical-align: middle;\n",
       "    }\n",
       "\n",
       "    .dataframe tbody tr th {\n",
       "        vertical-align: top;\n",
       "    }\n",
       "\n",
       "    .dataframe thead th {\n",
       "        text-align: right;\n",
       "    }\n",
       "</style>\n",
       "<table border=\"1\" class=\"dataframe\">\n",
       "  <thead>\n",
       "    <tr style=\"text-align: right;\">\n",
       "      <th></th>\n",
       "      <th>Todennäköisyys</th>\n",
       "    </tr>\n",
       "  </thead>\n",
       "  <tbody>\n",
       "    <tr>\n",
       "      <th>0</th>\n",
       "      <td>0.25</td>\n",
       "    </tr>\n",
       "    <tr>\n",
       "      <th>1</th>\n",
       "      <td>0.50</td>\n",
       "    </tr>\n",
       "    <tr>\n",
       "      <th>2</th>\n",
       "      <td>0.25</td>\n",
       "    </tr>\n",
       "  </tbody>\n",
       "</table>\n",
       "</div>"
      ],
      "text/plain": [
       "   Todennäköisyys\n",
       "0            0.25\n",
       "1            0.50\n",
       "2            0.25"
      ]
     },
     "execution_count": 4,
     "metadata": {},
     "output_type": "execute_result"
    }
   ],
   "source": [
    "klaavoja_jakauma = pd.DataFrame([0.25, 0.50, 0.25], index = [0, 1, 2], columns = ['Todennäköisyys'])\n",
    "klaavoja_jakauma"
   ]
  },
  {
   "cell_type": "markdown",
   "metadata": {},
   "source": [
    "Kyseistä jakaumaa voidaan kutsua <b>todennäköisyysjakaumaksi</b>.\n",
    "\n",
    "Jos kahta kolikkoa heitetään kerta toisensa jälkeen, niin empiirinen jakauma alkaa vääjäämättä lähestyä todennäköisyysjakaumaa. Seuraavassa simuloin kahden kolikon heittoa 10000 kertaa, jolloin jakauma on jo melko lähellä teoreettista todennäköisyysjakaumaa:"
   ]
  },
  {
   "cell_type": "code",
   "execution_count": 5,
   "metadata": {},
   "outputs": [
    {
     "data": {
      "text/html": [
       "<div>\n",
       "<style scoped>\n",
       "    .dataframe tbody tr th:only-of-type {\n",
       "        vertical-align: middle;\n",
       "    }\n",
       "\n",
       "    .dataframe tbody tr th {\n",
       "        vertical-align: top;\n",
       "    }\n",
       "\n",
       "    .dataframe thead th {\n",
       "        text-align: right;\n",
       "    }\n",
       "</style>\n",
       "<table border=\"1\" class=\"dataframe\">\n",
       "  <thead>\n",
       "    <tr style=\"text-align: right;\">\n",
       "      <th></th>\n",
       "      <th>Todennäköisyys</th>\n",
       "    </tr>\n",
       "    <tr>\n",
       "      <th>klaavoja</th>\n",
       "      <th></th>\n",
       "    </tr>\n",
       "  </thead>\n",
       "  <tbody>\n",
       "    <tr>\n",
       "      <th>0</th>\n",
       "      <td>0.2451</td>\n",
       "    </tr>\n",
       "    <tr>\n",
       "      <th>1</th>\n",
       "      <td>0.5066</td>\n",
       "    </tr>\n",
       "    <tr>\n",
       "      <th>2</th>\n",
       "      <td>0.2483</td>\n",
       "    </tr>\n",
       "  </tbody>\n",
       "</table>\n",
       "</div>"
      ],
      "text/plain": [
       "          Todennäköisyys\n",
       "klaavoja                \n",
       "0                 0.2451\n",
       "1                 0.5066\n",
       "2                 0.2483"
      ]
     },
     "execution_count": 5,
     "metadata": {},
     "output_type": "execute_result"
    }
   ],
   "source": [
    "heitot2 = pd.DataFrame({'kolikko1':np.random.randint(0, 2, 10000), \n",
    "                        'kolikko2':np.random.randint(0, 2, 10000)})\n",
    "\n",
    "heitot2['klaavoja'] = heitot2['kolikko1'] + heitot2['kolikko2']\n",
    "klaavoja2 = pd.crosstab(heitot2['klaavoja'], columns = 'Todennäköisyys', normalize = True)\n",
    "klaavoja2.columns.name = ''\n",
    "klaavoja2"
   ]
  },
  {
   "cell_type": "markdown",
   "metadata": {},
   "source": [
    "Jos todennäköisyysjakauma ei ole pääteltävissä tai laskettavissa kuten edellä, niin todennäköisyysjakauman approksimaationa voidaan käyttää empiiristä jakaumaa tai todennäköisyysjakauman todennäköisyydet voidaan määrittää asiantuntija-arvioiden pohjalta (subjektiivisina todennäköisyyksinä). \n",
    "\n",
    "Esimerkiksi pitkävedossa voi olla yhtenä kohteena ottelu HIFK - HPK. Pitkävedossa veikataan ottelun lopputulosta jaotuksella kotivoitto, tasapeli tai vierasvoitto. Kertoimien määrittämiseksi Veikkaus Oy määrittänee todennäköisyysjakauman lopputulokselle (esimerkiksi kotivoitto 35 %, tasapeli 25 %, vierasvoitto 40 %). Todennäköisyydet pohjautuvat yhtäältä aiemmin pelattuihin peleihin ja toisaalta asiantuntija-arvioihin. \n",
    "\n",
    "Todennäköisyysjakaumien yhteydessä käytetään käsitteitä: \n",
    "\n",
    "<ul>\n",
    "    <li><b>satunnaismuuttuja</b>: muuttuja, jonka arvoihin liittyviä todennäköisyyksiä jakauma esittää (esimerkiksi klaavojen lukumäärä)</li>\n",
    "    <li><b>satunnaisilmiö</b>: tarkastelun kohteena oleva tapahtuma tai ilmiö (esimerkiksi kahden kolikon heitto)</li>\n",
    "    <li><b>diskreetti todennäköisyysjakauma</b>: satunnaismuuttujan mahdolliset arvot ja niiden todennäköisyydet.</li>\n",
    "</ul>\n",
    "\n",
    "<h2>Kertymätodennäköisyys</h2>\n",
    "\n",
    "Kertymätodennäköisyys tarkoittaa todennäköisyyttä saada korkeintaan tietty satunnaismuuttujan arvo. Kahden nopan heitossa (satunnaisilmiö) silmälukujen summa (satunnaismuuttuja) voi saada arvokseen 2, 3, 4, 5, 6, 7, 8, 9, 10, 11 tai 12. Silmälukujen summan todennäköisyysjakauma selviää seuraavan taulukon avulla:"
   ]
  },
  {
   "cell_type": "code",
   "execution_count": 6,
   "metadata": {},
   "outputs": [
    {
     "data": {
      "text/html": [
       "<div>\n",
       "<style scoped>\n",
       "    .dataframe tbody tr th:only-of-type {\n",
       "        vertical-align: middle;\n",
       "    }\n",
       "\n",
       "    .dataframe tbody tr th {\n",
       "        vertical-align: top;\n",
       "    }\n",
       "\n",
       "    .dataframe thead th {\n",
       "        text-align: right;\n",
       "    }\n",
       "</style>\n",
       "<table border=\"1\" class=\"dataframe\">\n",
       "  <thead>\n",
       "    <tr style=\"text-align: right;\">\n",
       "      <th></th>\n",
       "      <th>1</th>\n",
       "      <th>2</th>\n",
       "      <th>3</th>\n",
       "      <th>4</th>\n",
       "      <th>5</th>\n",
       "      <th>6</th>\n",
       "    </tr>\n",
       "  </thead>\n",
       "  <tbody>\n",
       "    <tr>\n",
       "      <th>1</th>\n",
       "      <td>2</td>\n",
       "      <td>3</td>\n",
       "      <td>4</td>\n",
       "      <td>5</td>\n",
       "      <td>6</td>\n",
       "      <td>7</td>\n",
       "    </tr>\n",
       "    <tr>\n",
       "      <th>2</th>\n",
       "      <td>3</td>\n",
       "      <td>4</td>\n",
       "      <td>5</td>\n",
       "      <td>6</td>\n",
       "      <td>7</td>\n",
       "      <td>8</td>\n",
       "    </tr>\n",
       "    <tr>\n",
       "      <th>3</th>\n",
       "      <td>4</td>\n",
       "      <td>5</td>\n",
       "      <td>6</td>\n",
       "      <td>7</td>\n",
       "      <td>8</td>\n",
       "      <td>9</td>\n",
       "    </tr>\n",
       "    <tr>\n",
       "      <th>4</th>\n",
       "      <td>5</td>\n",
       "      <td>6</td>\n",
       "      <td>7</td>\n",
       "      <td>8</td>\n",
       "      <td>9</td>\n",
       "      <td>10</td>\n",
       "    </tr>\n",
       "    <tr>\n",
       "      <th>5</th>\n",
       "      <td>6</td>\n",
       "      <td>7</td>\n",
       "      <td>8</td>\n",
       "      <td>9</td>\n",
       "      <td>10</td>\n",
       "      <td>11</td>\n",
       "    </tr>\n",
       "    <tr>\n",
       "      <th>6</th>\n",
       "      <td>7</td>\n",
       "      <td>8</td>\n",
       "      <td>9</td>\n",
       "      <td>10</td>\n",
       "      <td>11</td>\n",
       "      <td>12</td>\n",
       "    </tr>\n",
       "  </tbody>\n",
       "</table>\n",
       "</div>"
      ],
      "text/plain": [
       "   1  2  3   4   5   6\n",
       "1  2  3  4   5   6   7\n",
       "2  3  4  5   6   7   8\n",
       "3  4  5  6   7   8   9\n",
       "4  5  6  7   8   9  10\n",
       "5  6  7  8   9  10  11\n",
       "6  7  8  9  10  11  12"
      ]
     },
     "execution_count": 6,
     "metadata": {},
     "output_type": "execute_result"
    }
   ],
   "source": [
    "nopat = pd.DataFrame(index = range(1, 7), columns = range(1, 7))\n",
    "for i in range(1, 7):\n",
    "    for j in range(1, 7):\n",
    "        nopat.loc[i, j] = i + j\n",
    "nopat"
   ]
  },
  {
   "cell_type": "markdown",
   "metadata": {},
   "source": [
    "Taulukon yläreunassa on ensimmäisen nopan silmäluvut ja vasemmassa reunassa toisen nopan silmäluvut. Ruudukon soluihin on laskettu eri tulosvaihtoehtoihin liittyvät silmälukujen summat. Silmälukujen summa 2 voi ruudukon mukaan sattua vain yhdellä tavalla, silmälukujen summa 3 voi sattua kahdella eri tavalla jne. Seuraavaan olen laskenut kuinka monella tavalla kukin silmälukujen summa voi sattua:"
   ]
  },
  {
   "cell_type": "code",
   "execution_count": 7,
   "metadata": {},
   "outputs": [
    {
     "data": {
      "text/html": [
       "<div>\n",
       "<style scoped>\n",
       "    .dataframe tbody tr th:only-of-type {\n",
       "        vertical-align: middle;\n",
       "    }\n",
       "\n",
       "    .dataframe tbody tr th {\n",
       "        vertical-align: top;\n",
       "    }\n",
       "\n",
       "    .dataframe thead th {\n",
       "        text-align: right;\n",
       "    }\n",
       "</style>\n",
       "<table border=\"1\" class=\"dataframe\">\n",
       "  <thead>\n",
       "    <tr style=\"text-align: right;\">\n",
       "      <th></th>\n",
       "      <th>Esiintymät</th>\n",
       "      <th>Todennäköisyys</th>\n",
       "    </tr>\n",
       "    <tr>\n",
       "      <th>Silmälukujen summa</th>\n",
       "      <th></th>\n",
       "      <th></th>\n",
       "    </tr>\n",
       "  </thead>\n",
       "  <tbody>\n",
       "    <tr>\n",
       "      <th>2</th>\n",
       "      <td>1</td>\n",
       "      <td>0.027778</td>\n",
       "    </tr>\n",
       "    <tr>\n",
       "      <th>3</th>\n",
       "      <td>2</td>\n",
       "      <td>0.055556</td>\n",
       "    </tr>\n",
       "    <tr>\n",
       "      <th>4</th>\n",
       "      <td>3</td>\n",
       "      <td>0.083333</td>\n",
       "    </tr>\n",
       "    <tr>\n",
       "      <th>5</th>\n",
       "      <td>4</td>\n",
       "      <td>0.111111</td>\n",
       "    </tr>\n",
       "    <tr>\n",
       "      <th>6</th>\n",
       "      <td>5</td>\n",
       "      <td>0.138889</td>\n",
       "    </tr>\n",
       "    <tr>\n",
       "      <th>7</th>\n",
       "      <td>6</td>\n",
       "      <td>0.166667</td>\n",
       "    </tr>\n",
       "    <tr>\n",
       "      <th>8</th>\n",
       "      <td>5</td>\n",
       "      <td>0.138889</td>\n",
       "    </tr>\n",
       "    <tr>\n",
       "      <th>9</th>\n",
       "      <td>4</td>\n",
       "      <td>0.111111</td>\n",
       "    </tr>\n",
       "    <tr>\n",
       "      <th>10</th>\n",
       "      <td>3</td>\n",
       "      <td>0.083333</td>\n",
       "    </tr>\n",
       "    <tr>\n",
       "      <th>11</th>\n",
       "      <td>2</td>\n",
       "      <td>0.055556</td>\n",
       "    </tr>\n",
       "    <tr>\n",
       "      <th>12</th>\n",
       "      <td>1</td>\n",
       "      <td>0.027778</td>\n",
       "    </tr>\n",
       "  </tbody>\n",
       "</table>\n",
       "</div>"
      ],
      "text/plain": [
       "                    Esiintymät  Todennäköisyys\n",
       "Silmälukujen summa                            \n",
       "2                            1        0.027778\n",
       "3                            2        0.055556\n",
       "4                            3        0.083333\n",
       "5                            4        0.111111\n",
       "6                            5        0.138889\n",
       "7                            6        0.166667\n",
       "8                            5        0.138889\n",
       "9                            4        0.111111\n",
       "10                           3        0.083333\n",
       "11                           2        0.055556\n",
       "12                           1        0.027778"
      ]
     },
     "execution_count": 7,
     "metadata": {},
     "output_type": "execute_result"
    }
   ],
   "source": [
    "nopat2 = pd.DataFrame(index = range(2, 13))\n",
    "nopat2['Esiintymät'] = 0\n",
    "\n",
    "for i in range(1, 7):\n",
    "    for j in range(1, 7):\n",
    "        nopat2.loc[i + j, 'Esiintymät'] += 1\n",
    "\n",
    "nopat2['Todennäköisyys'] = nopat2['Esiintymät'] / nopat2['Esiintymät'].sum()\n",
    "nopat2.index.name = 'Silmälukujen summa'\n",
    "nopat2"
   ]
  },
  {
   "cell_type": "markdown",
   "metadata": {},
   "source": [
    "Jakauman havainnollistaminen pylväskaaviona:"
   ]
  },
  {
   "cell_type": "code",
   "execution_count": 8,
   "metadata": {},
   "outputs": [
    {
     "data": {
      "text/plain": [
       "<matplotlib.axes._subplots.AxesSubplot at 0x2618c057c88>"
      ]
     },
     "execution_count": 8,
     "metadata": {},
     "output_type": "execute_result"
    },
    {
     "data": {
      "image/png": "[encoded data removed]",
      "text/plain": [
       "<Figure size 432x288 with 1 Axes>"
      ]
     },
     "metadata": {
      "needs_background": "light"
     },
     "output_type": "display_data"
    }
   ],
   "source": [
    "nopat2['Todennäköisyys'].plot.bar(title = 'Silmälukujen summan todennäköisyysjakauma kahden nopan heitossa', \n",
    "                                  rot = 0)"
   ]
  },
  {
   "cell_type": "markdown",
   "metadata": {},
   "source": [
    "Kertymätodennäköisyys voidaan laskea satunnaismuuttujan arvon ja kaikkien sitä edeltävien satunnaismuuttujan arvojen todennäköisyyksien summana. Ketymätodennäköisyydestä nähdään todennäköisyys saada korkeintaan tietyn suuruinen arvo. "
   ]
  },
  {
   "cell_type": "code",
   "execution_count": 9,
   "metadata": {},
   "outputs": [
    {
     "data": {
      "text/html": [
       "<div>\n",
       "<style scoped>\n",
       "    .dataframe tbody tr th:only-of-type {\n",
       "        vertical-align: middle;\n",
       "    }\n",
       "\n",
       "    .dataframe tbody tr th {\n",
       "        vertical-align: top;\n",
       "    }\n",
       "\n",
       "    .dataframe thead th {\n",
       "        text-align: right;\n",
       "    }\n",
       "</style>\n",
       "<table border=\"1\" class=\"dataframe\">\n",
       "  <thead>\n",
       "    <tr style=\"text-align: right;\">\n",
       "      <th></th>\n",
       "      <th>Esiintymät</th>\n",
       "      <th>Todennäköisyys</th>\n",
       "      <th>Kertymätodennäköisyys</th>\n",
       "    </tr>\n",
       "    <tr>\n",
       "      <th>Silmälukujen summa</th>\n",
       "      <th></th>\n",
       "      <th></th>\n",
       "      <th></th>\n",
       "    </tr>\n",
       "  </thead>\n",
       "  <tbody>\n",
       "    <tr>\n",
       "      <th>2</th>\n",
       "      <td>1</td>\n",
       "      <td>0.027778</td>\n",
       "      <td>0.027778</td>\n",
       "    </tr>\n",
       "    <tr>\n",
       "      <th>3</th>\n",
       "      <td>2</td>\n",
       "      <td>0.055556</td>\n",
       "      <td>0.083333</td>\n",
       "    </tr>\n",
       "    <tr>\n",
       "      <th>4</th>\n",
       "      <td>3</td>\n",
       "      <td>0.083333</td>\n",
       "      <td>0.166667</td>\n",
       "    </tr>\n",
       "    <tr>\n",
       "      <th>5</th>\n",
       "      <td>4</td>\n",
       "      <td>0.111111</td>\n",
       "      <td>0.277778</td>\n",
       "    </tr>\n",
       "    <tr>\n",
       "      <th>6</th>\n",
       "      <td>5</td>\n",
       "      <td>0.138889</td>\n",
       "      <td>0.416667</td>\n",
       "    </tr>\n",
       "    <tr>\n",
       "      <th>7</th>\n",
       "      <td>6</td>\n",
       "      <td>0.166667</td>\n",
       "      <td>0.583333</td>\n",
       "    </tr>\n",
       "    <tr>\n",
       "      <th>8</th>\n",
       "      <td>5</td>\n",
       "      <td>0.138889</td>\n",
       "      <td>0.722222</td>\n",
       "    </tr>\n",
       "    <tr>\n",
       "      <th>9</th>\n",
       "      <td>4</td>\n",
       "      <td>0.111111</td>\n",
       "      <td>0.833333</td>\n",
       "    </tr>\n",
       "    <tr>\n",
       "      <th>10</th>\n",
       "      <td>3</td>\n",
       "      <td>0.083333</td>\n",
       "      <td>0.916667</td>\n",
       "    </tr>\n",
       "    <tr>\n",
       "      <th>11</th>\n",
       "      <td>2</td>\n",
       "      <td>0.055556</td>\n",
       "      <td>0.972222</td>\n",
       "    </tr>\n",
       "    <tr>\n",
       "      <th>12</th>\n",
       "      <td>1</td>\n",
       "      <td>0.027778</td>\n",
       "      <td>1.000000</td>\n",
       "    </tr>\n",
       "  </tbody>\n",
       "</table>\n",
       "</div>"
      ],
      "text/plain": [
       "                    Esiintymät  Todennäköisyys  Kertymätodennäköisyys\n",
       "Silmälukujen summa                                                   \n",
       "2                            1        0.027778               0.027778\n",
       "3                            2        0.055556               0.083333\n",
       "4                            3        0.083333               0.166667\n",
       "5                            4        0.111111               0.277778\n",
       "6                            5        0.138889               0.416667\n",
       "7                            6        0.166667               0.583333\n",
       "8                            5        0.138889               0.722222\n",
       "9                            4        0.111111               0.833333\n",
       "10                           3        0.083333               0.916667\n",
       "11                           2        0.055556               0.972222\n",
       "12                           1        0.027778               1.000000"
      ]
     },
     "execution_count": 9,
     "metadata": {},
     "output_type": "execute_result"
    }
   ],
   "source": [
    "nopat2['Kertymätodennäköisyys'] = nopat2['Todennäköisyys'].cumsum()\n",
    "nopat2"
   ]
  },
  {
   "cell_type": "markdown",
   "metadata": {},
   "source": [
    "Kertymätodennäköisyydet ovat keskeisessä asemassa todennäköisyysjakaumia käytettäessä. Eri jakaumien kertymätodennäköisyyksiä löytyy tilastotieteen kirjoista taulukoituna tai niitä voidaan laskea esimerkiksi Pythonin tai taulukkolaskennan funktioilla. Tämän vuoksi onkin syytä harjoitella erilaisten tapahtumien todennäköisyyksien laskemista kertymätodennäköisyyksien avulla. \n",
    "\n",
    "Edellä kuvatussa kahden nopan silmälukujen jakaumassa:"
   ]
  },
  {
   "cell_type": "code",
   "execution_count": 10,
   "metadata": {},
   "outputs": [
    {
     "name": "stdout",
     "output_type": "stream",
     "text": [
      "P(X < 7) =  0.4166666666666667\n",
      "P(X > 9) =  0.16666666666666652\n",
      "P(4 < X < 9) =  0.5555555555555557\n"
     ]
    }
   ],
   "source": [
    "print('P(X < 7) = ', nopat2.loc[6, 'Kertymätodennäköisyys'])\n",
    "print('P(X > 9) = ', 1 - nopat2.loc[9, 'Kertymätodennäköisyys'])\n",
    "print('P(4 < X < 9) = ', nopat2.loc[8, 'Kertymätodennäköisyys'] - nopat2.loc[4, 'Kertymätodennäköisyys'])"
   ]
  },
  {
   "cell_type": "markdown",
   "metadata": {},
   "source": [
    "<h2>Odotusarvo</h2>\n",
    "\n",
    "Empiiriselle jakaumalle voidaan laskea keskiarvo. Palataan aiempaan esimerkkiin, jossa simuloitiin kahden kolikon heittoa 100 kertaa. Keskiarvoksi saan:"
   ]
  },
  {
   "cell_type": "code",
   "execution_count": 11,
   "metadata": {},
   "outputs": [
    {
     "name": "stdout",
     "output_type": "stream",
     "text": [
      "Klaavojen lukumäärän keskiarvo:  1.08\n"
     ]
    }
   ],
   "source": [
    "print('Klaavojen lukumäärän keskiarvo: ', (klaavoja.index * klaavoja['Osuus']).sum())"
   ]
  },
  {
   "cell_type": "markdown",
   "metadata": {},
   "source": [
    "Voimme myös määrittää keskiarvon eli odotusarvon todennäköisyysjakaumalle. Jos todennäköisyysjakauma tunnetaan, niin odotusarvo on satunnaismuuttujan arvojen todennäköisyyksillä painotettu summa. \n",
    "\n",
    "Kahden kolikon heitossa klaavojen lukumäärän todennäköisyyksillä painotettu summa:"
   ]
  },
  {
   "cell_type": "code",
   "execution_count": 12,
   "metadata": {},
   "outputs": [
    {
     "name": "stdout",
     "output_type": "stream",
     "text": [
      "Klaavojen lukumäärän odotusarvo:  1.0\n"
     ]
    }
   ],
   "source": [
    "print('Klaavojen lukumäärän odotusarvo: ', (klaavoja_jakauma.index * klaavoja_jakauma['Todennäköisyys']).sum())"
   ]
  },
  {
   "cell_type": "markdown",
   "metadata": {},
   "source": [
    "Odotusarvot ovat keskeisiä monissa sovelluksissa. Esimerkiksi vakuutusyhtiöt ovat kiinnostuneita tulevan vuoden vakuutuskorvausten odotusarvoista eri vakuutustyyppien kohdalla, sijoittajat ovat kiinnostuneita sijoitusten tuottojen odotusarvoista ja kauppiaat ovat kiinnostuneita tuotteiden kysynnän odotusarvoista.\n",
    "\n",
    "Esimerkki. Suunnitelmissa olevan investoinnin osalta arvioidaan:\n",
    "<ul>\n",
    "    <li>investoinnin kustannukset ovat seuraavan 10 vuoden aikana 100 000 euroa vuodessa</li>\n",
    "    <li>korkeasuhdanteessa saadaan tuottoja noin 180 000 euroa vuodessa</li>\n",
    "    <li>matalasuhdanteessa saadaan tuottoja 110 000 euroa vuodessa</li>\n",
    "    <li>korkeasuhdanteen todennäköisyys on tilastojen mukaan 0,40 ja matalasuhdanteen 0,60</li>\n",
    "</ul>\n",
    "Tietojen pohjalta voimme laskea investoinnin vuosituoton odotusarvon:"
   ]
  },
  {
   "cell_type": "code",
   "execution_count": 13,
   "metadata": {},
   "outputs": [
    {
     "data": {
      "text/plain": [
       "138000.0"
      ]
     },
     "execution_count": 13,
     "metadata": {},
     "output_type": "execute_result"
    }
   ],
   "source": [
    "0.40 * 180000 + 0.60 * 110000"
   ]
  },
  {
   "cell_type": "markdown",
   "metadata": {},
   "source": [
    "Tuoton odotusarvon avulla voidaan sitten arvioida onko investointi riittävän kannattava."
   ]
  },
  {
   "cell_type": "markdown",
   "metadata": {},
   "source": [
    "Esimerkki. Arpajaisissa on 1000 arpaa. Voittoarpoja on 31:\n",
    "<ul>\n",
    "    <li>500 euron voittoja on yksi</li>\n",
    "    <li>300 euron voittoja on 10</li>\n",
    "    <li>100 euron voittoja on 20.</li>\n",
    "</ul>\n",
    "Määritä arvan hinta siten, että voiton odotusarvo on 55 % arvan hinnasta.\n",
    "\n",
    "Lasketaan voiton odotusarvo:"
   ]
  },
  {
   "cell_type": "code",
   "execution_count": 14,
   "metadata": {},
   "outputs": [
    {
     "data": {
      "text/plain": [
       "5.5"
      ]
     },
     "execution_count": 14,
     "metadata": {},
     "output_type": "execute_result"
    }
   ],
   "source": [
    "1/1000*500 + 10/1000*300 + 20/1000*100"
   ]
  },
  {
   "cell_type": "markdown",
   "metadata": {},
   "source": [
    "Jotta voiton odotusarvo 5,50 euroa olisi 55 % arvan hinnasta, täytyy arvan hinnaksi asettaa 10 euroa."
   ]
  },
  {
   "cell_type": "markdown",
   "metadata": {},
   "source": [
    "Esimerkki. Maahantuojalla on tilasto (perustuen aiemmin tehtyihin korjauksiin) automalliin takuuaikana tehtävistä korjauksista:\n",
    "<ul>\n",
    "    <li>50 % autoista ei tarvitse tehdä takuun piiriin kuuluvia korjauksia</li>\n",
    "    <li>20 % autoista joudutaan tekemään keskimäärin 150 euroa maksavat korjaukset</li>\n",
    "    <li>25 % keskimäärin 400 euroa maksavat korjaukset</li>\n",
    "    <li>loppuihin 600 euroa maksavat korjaukset.</li>\n",
    "</ul>\n",
    "Tietojen pohjalta voidaan määrittää, kuinka paljon takuun pitäisi lisätä uuden auton hintaa. Riittää, kun laskemme korjauksiin kuluvan euromäärän odotusarvon:"
   ]
  },
  {
   "cell_type": "code",
   "execution_count": 15,
   "metadata": {},
   "outputs": [
    {
     "data": {
      "text/plain": [
       "160.0"
      ]
     },
     "execution_count": 15,
     "metadata": {},
     "output_type": "execute_result"
    }
   ],
   "source": [
    "0.50*0 + 0.20*150 + 0.25*400 + 0.05*600 "
   ]
  },
  {
   "cell_type": "markdown",
   "metadata": {},
   "source": [
    "Esimerkki. Vakuutusyhtiöissä hyödynnetään laajasti erilaisiin ilmiöihin liittyviä odotusarvoja vakuutuksia hinnoiteltaessa. Tarkastellaan esimerkkinä yksinkertaista ulkoilmatapahtuman järjestäjälle myönnettävää sadevakuutusta. Ulkoilmatapahtuman järjestäjä ottaa tällaisen vakuutuksen lieventääkseen mahdollisen sateen aiheuttamia tappioita. Kiinnekohta, jonka perusteella vakuutus voidaan hinnoitella, on kyseisen ajankohdan sateen todennäköisyysjakauma:"
   ]
  },
  {
   "cell_type": "code",
   "execution_count": 16,
   "metadata": {},
   "outputs": [
    {
     "data": {
      "text/html": [
       "<div>\n",
       "<style scoped>\n",
       "    .dataframe tbody tr th:only-of-type {\n",
       "        vertical-align: middle;\n",
       "    }\n",
       "\n",
       "    .dataframe tbody tr th {\n",
       "        vertical-align: top;\n",
       "    }\n",
       "\n",
       "    .dataframe thead th {\n",
       "        text-align: right;\n",
       "    }\n",
       "</style>\n",
       "<table border=\"1\" class=\"dataframe\">\n",
       "  <thead>\n",
       "    <tr style=\"text-align: right;\">\n",
       "      <th></th>\n",
       "      <th>Sade mm</th>\n",
       "      <th>Todennäköisyys</th>\n",
       "      <th>Korvaus</th>\n",
       "    </tr>\n",
       "  </thead>\n",
       "  <tbody>\n",
       "    <tr>\n",
       "      <th>0</th>\n",
       "      <td>0-2</td>\n",
       "      <td>0.53</td>\n",
       "      <td>0</td>\n",
       "    </tr>\n",
       "    <tr>\n",
       "      <th>1</th>\n",
       "      <td>3-5</td>\n",
       "      <td>0.30</td>\n",
       "      <td>500</td>\n",
       "    </tr>\n",
       "    <tr>\n",
       "      <th>2</th>\n",
       "      <td>6-10</td>\n",
       "      <td>0.15</td>\n",
       "      <td>1000</td>\n",
       "    </tr>\n",
       "    <tr>\n",
       "      <th>3</th>\n",
       "      <td>11-</td>\n",
       "      <td>0.02</td>\n",
       "      <td>3000</td>\n",
       "    </tr>\n",
       "  </tbody>\n",
       "</table>\n",
       "</div>"
      ],
      "text/plain": [
       "  Sade mm  Todennäköisyys  Korvaus\n",
       "0     0-2            0.53        0\n",
       "1     3-5            0.30      500\n",
       "2    6-10            0.15     1000\n",
       "3     11-            0.02     3000"
      ]
     },
     "execution_count": 16,
     "metadata": {},
     "output_type": "execute_result"
    }
   ],
   "source": [
    "sade = pd.DataFrame({'Sade mm': ['0-2', '3-5', '6-10', '11-'],\n",
    "                     'Todennäköisyys': [0.53, 0.3, 0.15, 0.02], \n",
    "                     'Korvaus': [0, 500, 1000, 3000]})\n",
    "sade"
   ]
  },
  {
   "cell_type": "code",
   "execution_count": 17,
   "metadata": {},
   "outputs": [
    {
     "name": "stdout",
     "output_type": "stream",
     "text": [
      "Korvauksen odotusarvo:  360.0\n"
     ]
    }
   ],
   "source": [
    "print('Korvauksen odotusarvo: ', (sade['Todennäköisyys'] * sade['Korvaus']).sum())"
   ]
  }
 ],
 "metadata": {
  "kernelspec": {
   "display_name": "Python 3",
   "language": "python",
   "name": "python3"
  },
  "language_info": {
   "codemirror_mode": {
    "name": "ipython",
    "version": 3
   },
   "file_extension": ".py",
   "mimetype": "text/x-python",
   "name": "python",
   "nbconvert_exporter": "python",
   "pygments_lexer": "ipython3",
   "version": "3.7.6"
  }
 },
 "nbformat": 4,
 "nbformat_minor": 4
}
