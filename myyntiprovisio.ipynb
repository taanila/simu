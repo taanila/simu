{
 "cells": [
  {
   "cell_type": "markdown",
   "metadata": {},
   "source": [
    "## Myyntiprovision ennustaminen Monte Carlo -menetelmällä\n",
    "\n",
    "Esimerkki matkittu sivulta [Practical Business Python](https://pbpython.com/monte-carlo.html)\n",
    "\n",
    "Tässä esimerkissä ennustetaan myyntiprovisioiden kokonaismäärää Monte Carlo -menetelmällä."
   ]
  },
  {
   "cell_type": "code",
   "execution_count": 1,
   "metadata": {},
   "outputs": [],
   "source": [
    "import pandas as pd\n",
    "import numpy as np\n",
    "import seaborn as sns\n",
    "sns.set_style('whitegrid')"
   ]
  },
  {
   "cell_type": "code",
   "execution_count": 2,
   "metadata": {},
   "outputs": [],
   "source": [
    "# Lähtötietoja\n",
    "avg = 1 # myyntitavoitteen saavuttamisprosentin historiatietoon perustuva keskiarvo\n",
    "std_dev = .1 # myyntitavoitteen saavuttamisprosentin historiatietoon perustuva keskihajonta\n",
    "num_reps = 500 # myyjien lukumäärä\n",
    "num_simulations = 1000 # simulointikierrosten lukumäärä"
   ]
  },
  {
   "cell_type": "code",
   "execution_count": 3,
   "metadata": {},
   "outputs": [],
   "source": [
    "# Myyntitavoitteen saavuttamisprosenttien simulointi normaalijakaumasta\n",
    "pct_to_target = np.random.normal(avg, std_dev, size=(num_reps, num_simulations))"
   ]
  },
  {
   "cell_type": "code",
   "execution_count": 4,
   "metadata": {},
   "outputs": [],
   "source": [
    "# Myyntitavoitteiden simulointi historiatietoon perustuvasta jakaumasta\n",
    "sales_target_values = [75_000, 100_000, 200_000, 300_000, 400_000, 500_000]\n",
    "sales_target_prob = [.3, .3, .2, .1, .05, .05]\n",
    "sales_target = np.random.choice(sales_target_values, p=sales_target_prob, size=(num_reps, num_simulations))"
   ]
  },
  {
   "cell_type": "markdown",
   "metadata": {},
   "source": [
    "Provisioprosentti määräytyy myyntitavoitteen saavuttamisen mukaan:\n",
    "<ul>\n",
    "<li>0 - 90 % = 2 % (jos myynti 0-90 % tavoitteesta, niin provisio on 2 %)</li>\n",
    "<li>91 - 99 % = 3 % (jos myynti 91 - 99 % tavoitteesta, niin provisio on 3 %)</li>\n",
    "<li> >=100 % = 4 % (jos myynti 100 % tai enemmän tavoitteesta, niin provisio on 4 %)</li>\n",
    "</ul>    \n",
    "Seuraavassa valitaan provisioprosentti listasta [0.02, 0.03, 0.04] indeksin mukaan. Indeksin arvo saadaan luokittelemalla myyntitavoitteiden saavuttamisprosentit (pct_to_target) luokkarajojen 0.9, 0.99 ja 10 (tähän valittu riittävän iso luku) mukaan.\n",
    "\n",
    "Kannattaa perehtyä numpy-funktioiden take ja digitize ohjeisiin:\n",
    "\n",
    "- https://docs.scipy.org/doc/numpy/reference/generated/numpy.take.html\n",
    "- https://docs.scipy.org/doc/numpy/reference/generated/numpy.digitize.html\n",
    "    "
   ]
  },
  {
   "cell_type": "code",
   "execution_count": 5,
   "metadata": {},
   "outputs": [],
   "source": [
    "commission_percentages = np.take(np.array([0.02, 0.03, 0.04]),\n",
    "    np.digitize(pct_to_target, bins=[.9, .99, 10]))"
   ]
  },
  {
   "cell_type": "code",
   "execution_count": 6,
   "metadata": {},
   "outputs": [],
   "source": [
    "# Summataan 500 myyjän provisiot\n",
    "total_commissions = (commission_percentages * pct_to_target * sales_target).sum(axis=0)"
   ]
  },
  {
   "cell_type": "code",
   "execution_count": 7,
   "metadata": {},
   "outputs": [
    {
     "data": {
      "text/plain": [
       "(1000, 1)"
      ]
     },
     "execution_count": 7,
     "metadata": {},
     "output_type": "execute_result"
    }
   ],
   "source": [
    "# Tuloksista dataframe\n",
    "df = pd.DataFrame(data={'Myyntiprovisiot': total_commissions})\n",
    "df.shape"
   ]
  },
  {
   "cell_type": "code",
   "execution_count": 8,
   "metadata": {},
   "outputs": [
    {
     "data": {
      "text/plain": [
       "<matplotlib.axes._subplots.AxesSubplot at 0x295b2471208>"
      ]
     },
     "execution_count": 8,
     "metadata": {},
     "output_type": "execute_result"
    },
    {
     "data": {
      "image/png": "[encoded data removed]",
      "text/plain": [
       "<Figure size 432x288 with 1 Axes>"
      ]
     },
     "metadata": {
      "needs_background": "light"
     },
     "output_type": "display_data"
    }
   ],
   "source": [
    "# Provisioiden yhteissumman jakauma simulaatiossa\n",
    "df.plot(kind='hist', title='Myyntiprovisioiden jakauma simulaatiossa')"
   ]
  },
  {
   "cell_type": "code",
   "execution_count": 9,
   "metadata": {},
   "outputs": [
    {
     "data": {
      "text/html": [
       "<style  type=\"text/css\" >\n",
       "</style><table id=\"T_fa209e40_88f0_11e9_871b_5cb901ac75b5\" ><thead>    <tr>        <th class=\"blank level0\" ></th>        <th class=\"col_heading level0 col0\" >Myyntiprovisiot</th>    </tr></thead><tbody>\n",
       "                <tr>\n",
       "                        <th id=\"T_fa209e40_88f0_11e9_871b_5cb901ac75b5level0_row0\" class=\"row_heading level0 row0\" >count</th>\n",
       "                        <td id=\"T_fa209e40_88f0_11e9_871b_5cb901ac75b5row0_col0\" class=\"data row0 col0\" >1000</td>\n",
       "            </tr>\n",
       "            <tr>\n",
       "                        <th id=\"T_fa209e40_88f0_11e9_871b_5cb901ac75b5level0_row1\" class=\"row_heading level0 row1\" >mean</th>\n",
       "                        <td id=\"T_fa209e40_88f0_11e9_871b_5cb901ac75b5row1_col0\" class=\"data row1 col0\" >2885468</td>\n",
       "            </tr>\n",
       "            <tr>\n",
       "                        <th id=\"T_fa209e40_88f0_11e9_871b_5cb901ac75b5level0_row2\" class=\"row_heading level0 row2\" >std</th>\n",
       "                        <td id=\"T_fa209e40_88f0_11e9_871b_5cb901ac75b5row2_col0\" class=\"data row2 col0\" >104065</td>\n",
       "            </tr>\n",
       "            <tr>\n",
       "                        <th id=\"T_fa209e40_88f0_11e9_871b_5cb901ac75b5level0_row3\" class=\"row_heading level0 row3\" >min</th>\n",
       "                        <td id=\"T_fa209e40_88f0_11e9_871b_5cb901ac75b5row3_col0\" class=\"data row3 col0\" >2600309</td>\n",
       "            </tr>\n",
       "            <tr>\n",
       "                        <th id=\"T_fa209e40_88f0_11e9_871b_5cb901ac75b5level0_row4\" class=\"row_heading level0 row4\" >25%</th>\n",
       "                        <td id=\"T_fa209e40_88f0_11e9_871b_5cb901ac75b5row4_col0\" class=\"data row4 col0\" >2815418</td>\n",
       "            </tr>\n",
       "            <tr>\n",
       "                        <th id=\"T_fa209e40_88f0_11e9_871b_5cb901ac75b5level0_row5\" class=\"row_heading level0 row5\" >50%</th>\n",
       "                        <td id=\"T_fa209e40_88f0_11e9_871b_5cb901ac75b5row5_col0\" class=\"data row5 col0\" >2884778</td>\n",
       "            </tr>\n",
       "            <tr>\n",
       "                        <th id=\"T_fa209e40_88f0_11e9_871b_5cb901ac75b5level0_row6\" class=\"row_heading level0 row6\" >75%</th>\n",
       "                        <td id=\"T_fa209e40_88f0_11e9_871b_5cb901ac75b5row6_col0\" class=\"data row6 col0\" >2952184</td>\n",
       "            </tr>\n",
       "            <tr>\n",
       "                        <th id=\"T_fa209e40_88f0_11e9_871b_5cb901ac75b5level0_row7\" class=\"row_heading level0 row7\" >max</th>\n",
       "                        <td id=\"T_fa209e40_88f0_11e9_871b_5cb901ac75b5row7_col0\" class=\"data row7 col0\" >3253528</td>\n",
       "            </tr>\n",
       "    </tbody></table>"
      ],
      "text/plain": [
       "<pandas.io.formats.style.Styler at 0x295b6145d30>"
      ]
     },
     "execution_count": 9,
     "metadata": {},
     "output_type": "execute_result"
    }
   ],
   "source": [
    "# Provisioiden yhteissumman tunnusluvut simulaatiossa\n",
    "df.describe().style.format('{:.0f}')"
   ]
  }
 ],
 "metadata": {
  "kernelspec": {
   "display_name": "Python 3",
   "language": "python",
   "name": "python3"
  },
  "language_info": {
   "codemirror_mode": {
    "name": "ipython",
    "version": 3
   },
   "file_extension": ".py",
   "mimetype": "text/x-python",
   "name": "python",
   "nbconvert_exporter": "python",
   "pygments_lexer": "ipython3",
   "version": "3.7.3"
  }
 },
 "nbformat": 4,
 "nbformat_minor": 2
}
