{
 "cells": [
  {
   "cell_type": "code",
   "execution_count": 1,
   "metadata": {},
   "outputs": [
    {
     "name": "stdout",
     "output_type": "stream",
     "text": [
      "Päivitetty 2025-08-26 / Aki Taanila\n"
     ]
    }
   ],
   "source": [
    "from datetime import datetime\n",
    "print(f'Päivitetty {datetime.now().date()} / Aki Taanila')"
   ]
  },
  {
   "cell_type": "markdown",
   "metadata": {},
   "source": [
    "## Myyntiprovision ennustaminen Monte Carlo -menetelmällä\n",
    "\n",
    "Esimerkki matkittu sivulta [Practical Business Python](https://pbpython.com/monte-carlo.html)\n",
    "\n",
    "Tässä esimerkissä ennustetaan myyntiprovisioiden kokonaismäärää Monte Carlo -menetelmällä."
   ]
  },
  {
   "cell_type": "code",
   "execution_count": 2,
   "metadata": {},
   "outputs": [],
   "source": [
    "import pandas as pd\n",
    "import numpy as np\n",
    "import seaborn as sns\n",
    "sns.set_style('whitegrid')"
   ]
  },
  {
   "cell_type": "code",
   "execution_count": 3,
   "metadata": {},
   "outputs": [],
   "source": [
    "# Lähtötietoja\n",
    "avg = 1 # myyntitavoitteen saavuttamisprosentin historiatietoon perustuva keskiarvo\n",
    "std_dev = .1 # myyntitavoitteen saavuttamisprosentin historiatietoon perustuva keskihajonta\n",
    "num_reps = 500 # myyjien lukumäärä\n",
    "num_simulations = 1000 # simulointikierrosten lukumäärä\n",
    "\n",
    "# Alustan satunnaislukugeneraattorin:\n",
    "rng = np.random.default_rng()"
   ]
  },
  {
   "cell_type": "code",
   "execution_count": 4,
   "metadata": {},
   "outputs": [],
   "source": [
    "# Myyntitavoitteen saavuttamisprosenttien simulointi normaalijakaumasta\n",
    "pct_to_target = rng.normal(avg, std_dev, size=(num_reps, num_simulations))"
   ]
  },
  {
   "cell_type": "code",
   "execution_count": 5,
   "metadata": {},
   "outputs": [],
   "source": [
    "# Myyntitavoitteiden simulointi historiatietoon perustuvasta jakaumasta\n",
    "sales_target_values = [75_000, 100_000, 200_000, 300_000, 400_000, 500_000]\n",
    "sales_target_prob = [.3, .3, .2, .1, .05, .05]\n",
    "sales_target = rng.choice(sales_target_values, p=sales_target_prob, size=(num_reps, num_simulations))"
   ]
  },
  {
   "cell_type": "markdown",
   "metadata": {},
   "source": [
    "Provisioprosentti määräytyy myyntitavoitteen saavuttamisen mukaan:\n",
    "<ul>\n",
    "<li>0 - 90 % = 2 % (jos myynti 0-90 % tavoitteesta, niin provisio on 2 %)</li>\n",
    "<li>91 - 99 % = 3 % (jos myynti 91 - 99 % tavoitteesta, niin provisio on 3 %)</li>\n",
    "<li> >=100 % = 4 % (jos myynti 100 % tai enemmän tavoitteesta, niin provisio on 4 %)</li>\n",
    "</ul>    \n",
    "Seuraavassa valitaan provisioprosentti listasta [0.02, 0.03, 0.04] indeksin mukaan. Indeksin arvo saadaan luokittelemalla myyntitavoitteiden saavuttamisprosentit (pct_to_target) luokkarajojen 0.9, 0.99 ja 10 (tähän valittu riittävän iso luku) mukaan.\n",
    "\n",
    "Kannattaa perehtyä numpy-funktioiden take ja digitize ohjeisiin:\n",
    "\n",
    "- https://docs.scipy.org/doc/numpy/reference/generated/numpy.take.html\n",
    "- https://docs.scipy.org/doc/numpy/reference/generated/numpy.digitize.html\n",
    "    "
   ]
  },
  {
   "cell_type": "code",
   "execution_count": 6,
   "metadata": {},
   "outputs": [],
   "source": [
    "commission_percentages = np.take(np.array([0.02, 0.03, 0.04]),\n",
    "    np.digitize(pct_to_target, bins=[.9, .99, 10]))"
   ]
  },
  {
   "cell_type": "code",
   "execution_count": 7,
   "metadata": {},
   "outputs": [],
   "source": [
    "# Summataan 500 myyjän provisiot\n",
    "total_commissions = (commission_percentages * pct_to_target * sales_target).sum(axis=0)"
   ]
  },
  {
   "cell_type": "code",
   "execution_count": 8,
   "metadata": {},
   "outputs": [
    {
     "data": {
      "text/plain": [
       "(1000, 1)"
      ]
     },
     "execution_count": 8,
     "metadata": {},
     "output_type": "execute_result"
    }
   ],
   "source": [
    "# Tuloksista dataframe\n",
    "df = pd.DataFrame(data={'Myyntiprovisiot': total_commissions})\n",
    "df.shape"
   ]
  },
  {
   "cell_type": "code",
   "execution_count": 9,
   "metadata": {},
   "outputs": [
    {
     "data": {
      "text/plain": [
       "<Axes: title={'center': 'Myyntiprovisioiden jakauma simulaatiossa'}, ylabel='Frequency'>"
      ]
     },
     "execution_count": 9,
     "metadata": {},
     "output_type": "execute_result"
    },
    {
     "data": {
      "image/png": "[encoded data removed]",
      "text/plain": [
       "<Figure size 640x480 with 1 Axes>"
      ]
     },
     "metadata": {},
     "output_type": "display_data"
    }
   ],
   "source": [
    "# Provisioiden yhteissumman jakauma simulaatiossa\n",
    "df.plot(kind='hist', title='Myyntiprovisioiden jakauma simulaatiossa')"
   ]
  },
  {
   "cell_type": "code",
   "execution_count": 10,
   "metadata": {},
   "outputs": [
    {
     "data": {
      "text/html": [
       "<style type=\"text/css\">\n",
       "</style>\n",
       "<table id=\"T_7aa9c\">\n",
       "  <thead>\n",
       "    <tr>\n",
       "      <th class=\"blank level0\" >&nbsp;</th>\n",
       "      <th id=\"T_7aa9c_level0_col0\" class=\"col_heading level0 col0\" >Myyntiprovisiot</th>\n",
       "    </tr>\n",
       "  </thead>\n",
       "  <tbody>\n",
       "    <tr>\n",
       "      <th id=\"T_7aa9c_level0_row0\" class=\"row_heading level0 row0\" >count</th>\n",
       "      <td id=\"T_7aa9c_row0_col0\" class=\"data row0 col0\" >1000</td>\n",
       "    </tr>\n",
       "    <tr>\n",
       "      <th id=\"T_7aa9c_level0_row1\" class=\"row_heading level0 row1\" >mean</th>\n",
       "      <td id=\"T_7aa9c_row1_col0\" class=\"data row1 col0\" >2884936</td>\n",
       "    </tr>\n",
       "    <tr>\n",
       "      <th id=\"T_7aa9c_level0_row2\" class=\"row_heading level0 row2\" >std</th>\n",
       "      <td id=\"T_7aa9c_row2_col0\" class=\"data row2 col0\" >102792</td>\n",
       "    </tr>\n",
       "    <tr>\n",
       "      <th id=\"T_7aa9c_level0_row3\" class=\"row_heading level0 row3\" >min</th>\n",
       "      <td id=\"T_7aa9c_row3_col0\" class=\"data row3 col0\" >2549837</td>\n",
       "    </tr>\n",
       "    <tr>\n",
       "      <th id=\"T_7aa9c_level0_row4\" class=\"row_heading level0 row4\" >25%</th>\n",
       "      <td id=\"T_7aa9c_row4_col0\" class=\"data row4 col0\" >2816810</td>\n",
       "    </tr>\n",
       "    <tr>\n",
       "      <th id=\"T_7aa9c_level0_row5\" class=\"row_heading level0 row5\" >50%</th>\n",
       "      <td id=\"T_7aa9c_row5_col0\" class=\"data row5 col0\" >2885644</td>\n",
       "    </tr>\n",
       "    <tr>\n",
       "      <th id=\"T_7aa9c_level0_row6\" class=\"row_heading level0 row6\" >75%</th>\n",
       "      <td id=\"T_7aa9c_row6_col0\" class=\"data row6 col0\" >2954412</td>\n",
       "    </tr>\n",
       "    <tr>\n",
       "      <th id=\"T_7aa9c_level0_row7\" class=\"row_heading level0 row7\" >max</th>\n",
       "      <td id=\"T_7aa9c_row7_col0\" class=\"data row7 col0\" >3232287</td>\n",
       "    </tr>\n",
       "  </tbody>\n",
       "</table>\n"
      ],
      "text/plain": [
       "<pandas.io.formats.style.Styler at 0x1f9cdccfb60>"
      ]
     },
     "execution_count": 10,
     "metadata": {},
     "output_type": "execute_result"
    }
   ],
   "source": [
    "# Provisioiden yhteissumman tunnusluvut simulaatiossa\n",
    "df.describe().style.format('{:.0f}')"
   ]
  },
  {
   "cell_type": "markdown",
   "metadata": {},
   "source": [
    "Lisätietoa satunnaislukujen tuottamisesta: https://numpy.org/doc/stable/reference/random/index.html"
   ]
  }
 ],
 "metadata": {
  "kernelspec": {
   "display_name": "Python 3 (ipykernel)",
   "language": "python",
   "name": "python3"
  },
  "language_info": {
   "codemirror_mode": {
    "name": "ipython",
    "version": 3
   },
   "file_extension": ".py",
   "mimetype": "text/x-python",
   "name": "python",
   "nbconvert_exporter": "python",
   "pygments_lexer": "ipython3",
   "version": "3.13.2"
  }
 },
 "nbformat": 4,
 "nbformat_minor": 4
}
