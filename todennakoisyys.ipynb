{
 "cells": [
  {
   "cell_type": "code",
   "execution_count": 1,
   "metadata": {},
   "outputs": [
    {
     "name": "stdout",
     "output_type": "stream",
     "text": [
      "Päivitetty 2025-08-26 / Aki Taanila\n"
     ]
    }
   ],
   "source": [
    "from datetime import datetime\n",
    "print(f'Päivitetty {datetime.now().date()} / Aki Taanila')"
   ]
  },
  {
   "cell_type": "markdown",
   "metadata": {},
   "source": [
    "# Todennäköisyyksien laskusääntöjä\n",
    "\n",
    "Jatkossa tarvitaan seuraavia käsitteitä ja määritelmiä:\n",
    "\n",
    "- **Alkeistapahtuma** = yksittäinen tulosmahdollisuus (esimerkiksi nopanheitossa silmäluku 3).\n",
    "- **Tapahtuma** = joukko alkeistapahtumia (esimerkiksi parillinen silmäluku nopanheitossa).\n",
    "- Tapahtumia merkitään isoilla aakkosilla A, B, jne.\n",
    "- **Tapahtuman todennäköisyys** on tapahtumalle suotuisien alkeistapahtumien määrä jaettuna kaikkien alkeistapahtumien määrällä (esimerkiksi parillisen silmäluvun todennäköisyys nopanheitossa 3/6=0,5).\n",
    "- Tapahtuman A todennäköisyyttä merkitään **P(A)**.\n",
    "- **Erillisyys**: Tapahtumat A ja B ovat erillisiä, jos ne eivät voi sattua yhtä aikaa. Esimerkiksi tapahtumat ’nostettu kortti on pata’ ja ’nostettu kortti on hertta’ ovat erillisiä. Sen sijaan tapahtumat ’nostettu kortti on kuvakortti’ ja ’nostettu kortti on hertta’ eivät ole erillisiä, koska nostettu kortti voi olla yhtä aikaa kuvakortti ja hertta.\n",
    "- **Riippumattomuus**: Tapahtumat A ja B ovat toisistaan riippumattomia, jos toisen tapahtuminen ei vaikuta toisen todennäköisyyteen. Esimerkiksi tapahtumat 'ensimmäinen nostettu kortti on ässä' ja 'toinen nostettu kortti on ässä' eivät ole riippumattomia. Toisen kortin kohdalla ässän todennäköisyys riippuu siitä, mikä ensimmäinen kortti oli.\n",
    "\n",
    "## Yhteenlaskusääntö - tai\n",
    "\n",
    "Todennäköisyys, että sattuu tapahtuma A **tai** tapahtuma B (jompikumpi tai molemmat):\n",
    "\n",
    "**P(A tai B) = P(A) + P(B) – P(A ja B)**\n",
    "\n",
    "Jos molemmat tapahtumista A ja B voivat sattua yhtä aikaa, niin laskettaessa A:n ja B:n todennäköisyydet yhteen, tulee yhteinen alue lasketuksi kahteen kertaan. Niinpä yhteinen alue täytyy vähentää todennäköisyyksien summasta. \n",
    "\n",
    "Tapahtumat voivat olla myös erillisiä, jolloin yhteistä aluetta ei ole. Jos tapahtumat A ja B ovat erilliset, niin laskentasääntö yksinkertaistuu muotoon:\n",
    "\n",
    "**P(A tai B) = P(A) + P(B)**\n",
    "\n",
    "Esimerkki. Tuotteen laatu vaihtelee pitkäaikaisten tilastojen mukaan seuraavasti:\n",
    "\n",
    "- materiaalivika A todennäköisyydellä 0,1\n",
    "- käsittelyvika B todennäköisyydellä 0,2\n",
    "- molemmat viat todennäköisyydellä 0,05 (yhteinen alue).\n",
    "\n",
    "Todennäköisyys, että tuotteessa on jotain vialla  P(A tai B):"
   ]
  },
  {
   "cell_type": "code",
   "execution_count": 2,
   "metadata": {},
   "outputs": [
    {
     "data": {
      "text/plain": [
       "0.25000000000000006"
      ]
     },
     "execution_count": 2,
     "metadata": {},
     "output_type": "execute_result"
    }
   ],
   "source": [
    "0.1 + 0.2 - 0.05"
   ]
  },
  {
   "cell_type": "markdown",
   "metadata": {},
   "source": [
    "Mistä tuo viimeinen desimaali tulee? Kyse ei ole Pythonin virheestä. Kyse on ongelmasta, joka liittyy liukulukujen (floating point numbers) esittämiseen tietokoneissa binäärilukuina. Tästä voit lukea lisää https://docs.python.org/3.8/tutorial/floatingpoint.html.\n",
    "\n",
    "Jos koet asian häiritseväksi, niin voit muotoilla tuloksen haluamaasi tarkkuuteen:"
   ]
  },
  {
   "cell_type": "code",
   "execution_count": 3,
   "metadata": {},
   "outputs": [
    {
     "data": {
      "text/plain": [
       "'0.25'"
      ]
     },
     "execution_count": 3,
     "metadata": {},
     "output_type": "execute_result"
    }
   ],
   "source": [
    "f'{(0.1 + 0.2 - 0.05):.2f}'"
   ]
  },
  {
   "cell_type": "markdown",
   "metadata": {},
   "source": [
    "tai pyöristää:"
   ]
  },
  {
   "cell_type": "code",
   "execution_count": 4,
   "metadata": {},
   "outputs": [
    {
     "data": {
      "text/plain": [
       "0.25"
      ]
     },
     "execution_count": 4,
     "metadata": {},
     "output_type": "execute_result"
    }
   ],
   "source": [
    "round(0.1 + 0.2 - 0.05, 2)"
   ]
  },
  {
   "cell_type": "markdown",
   "metadata": {},
   "source": [
    "Todennäköisyys, että tuotteessa on pelkästään käsittelyvika P(B, mutta ei A):"
   ]
  },
  {
   "cell_type": "code",
   "execution_count": 5,
   "metadata": {},
   "outputs": [
    {
     "data": {
      "text/plain": [
       "0.15000000000000002"
      ]
     },
     "execution_count": 5,
     "metadata": {},
     "output_type": "execute_result"
    }
   ],
   "source": [
    "0.2 - 0.05"
   ]
  },
  {
   "cell_type": "markdown",
   "metadata": {},
   "source": [
    "Todennäköisyys, että tuotteessa on täsmälleen yksi vika: P(A tai B, muttei molemmat):"
   ]
  },
  {
   "cell_type": "code",
   "execution_count": 6,
   "metadata": {},
   "outputs": [
    {
     "data": {
      "text/plain": [
       "0.20000000000000007"
      ]
     },
     "execution_count": 6,
     "metadata": {},
     "output_type": "execute_result"
    }
   ],
   "source": [
    "0.1 + 0.2 - 0.05 - 0.05"
   ]
  },
  {
   "cell_type": "markdown",
   "metadata": {},
   "source": [
    "## Kertolaskusääntö - ja\n",
    "\n",
    "Todennäköisyys, että sattuu tapahtuma A <b>ja</b> tapahtuma B:\n",
    "\n",
    "**P(A ja B) = P(A) · P(B|A)**\n",
    "\n",
    "P(B|A) tarkoittaa B:n todennäköisyyttä sillä ehdolla, että A tapahtuu. \n",
    "\n",
    "Jos tapahtumat A ja B ovat toisistaan riippumattomia, niin laskentasääntö yksinkertaistuu muotoon:\n",
    "\n",
    "**P(A ja B) = P(A) · P(B)**\n",
    "\n",
    "Esimerkki. Millä todennäköisyydellä kolmessa rahan heitossa saadaan kolme klaavaa (1. heitossa klaava ja 2. heitossa klaava ja 3. heitossa klaava)?\n",
    "Rahanheitot ovat toisistaan riippumattomia, joten todennäköisyys on: "
   ]
  },
  {
   "cell_type": "code",
   "execution_count": 7,
   "metadata": {},
   "outputs": [
    {
     "data": {
      "text/plain": [
       "0.125"
      ]
     },
     "execution_count": 7,
     "metadata": {},
     "output_type": "execute_result"
    }
   ],
   "source": [
    "0.5 * 0.5 * 0.5"
   ]
  },
  {
   "cell_type": "markdown",
   "metadata": {},
   "source": [
    "Esimerkki. Erään liiketoimen onnistuminen edellyttää tapahtumien A ja B sattumista. Tapahtuman A todennäköisyys on 75 % ja tapahtuman B 70 %. Mikä on liiketoimen onnistumisen todennäköisyys?\n",
    "Jos tapahtumat A ja B ovat toisistaan riippumattomia, niin onnistumisen todennäköisyys on:"
   ]
  },
  {
   "cell_type": "code",
   "execution_count": 8,
   "metadata": {},
   "outputs": [
    {
     "data": {
      "text/plain": [
       "0.5249999999999999"
      ]
     },
     "execution_count": 8,
     "metadata": {},
     "output_type": "execute_result"
    }
   ],
   "source": [
    "0.75*0.7"
   ]
  },
  {
   "cell_type": "markdown",
   "metadata": {},
   "source": [
    "Seuraavassa esitän tuloksen hieman siistimmin:"
   ]
  },
  {
   "cell_type": "code",
   "execution_count": 9,
   "metadata": {},
   "outputs": [
    {
     "data": {
      "text/plain": [
       "'52.50 %'"
      ]
     },
     "execution_count": 9,
     "metadata": {},
     "output_type": "execute_result"
    }
   ],
   "source": [
    "f'{(0.75 * 0.70 * 100):.2f} %'"
   ]
  },
  {
   "cell_type": "markdown",
   "metadata": {},
   "source": [
    "Esimerkki. Suuressa tuote-erässä on 2 % virheellisiä. Millä todennäköisyydellä täsmälleen yksi satunnaisesti valituista kolmesta tuotteesta on virheellinen? Kyseessä on suuresta tuote-erästä satunnaisesti valitut tuotteet, joten voimme olettaa että tuotteen virheellisyyden todennäköisyys ei riipu edellisen tuotteen virheellisyydestä.\n",
    "\n",
    "- Todennäköisyys sille, että kolmesta tuotteesta ainoastaan ensimmäinen tuote on virheellinen, on 0,02*0,98*0,98\n",
    "- Todennäköisyys sille, että ainoastaan toinen tuote on virheellinen, on 0,98*0,02*0,98\n",
    "- Todennäköisyys sille, että ainoastaan kolmas tuote on virheellinen, on 0,98*0,98*0,02\n",
    "\n",
    "Yhteenlaskusääntöä noudattaen todennäköisyys sille, että täsmälleen yksi on virheellinen:"
   ]
  },
  {
   "cell_type": "code",
   "execution_count": 10,
   "metadata": {},
   "outputs": [
    {
     "data": {
      "text/plain": [
       "0.057623999999999995"
      ]
     },
     "execution_count": 10,
     "metadata": {},
     "output_type": "execute_result"
    }
   ],
   "source": [
    "0.02*0.98*0.98 + 0.98*0.02*0.98 + 0.98*0.98*0.02"
   ]
  },
  {
   "cell_type": "markdown",
   "metadata": {},
   "source": [
    "Esimerkki. 50 arvan joukossa on 10 voittoarpaa. Millä todennäköisyydellä täsmälleen yksi kolmesta ostetusta arvasta voittaa? Koska arpamäärä on suhteellisen pieni, niin arpojen voiton todennäköisyydet eivät ole toisistaan riippumattomia: voittoarvan todennäköisyys riippuu aiemmista arvoista. Pitää myös huomioida, että voittoarpa voi olla mikä tahansa kolmesta ostetusta arvasta.\n",
    "\n",
    "- Todennäköisyys sille, että 1. arpa voittaa ja muut kaksi arpaa eivät voita voidaan laskea kertolaskusäännöllä 10/50·40/49·39/48.\n",
    "- Todennäköisyys sille, että 2. arpa voittaa ja muut kaksi arpaa eivät voita voidaan laskea kertolaskusäännöllä 40/50·10/49·39/48.\n",
    "- Todennäköisyys sille, että 3. arpa voittaa ja muut kaksi arpaa eivät voita voidaan laskea kertolaskusäännöllä 40/50·39/49·10/48.\n",
    "\n",
    "Todennäköisyys sille että täsmälleen yksi arpa kolmesta voittaa saadaan edellä olevista yhteenlaskusäännöllä:"
   ]
  },
  {
   "cell_type": "code",
   "execution_count": 11,
   "metadata": {},
   "outputs": [
    {
     "data": {
      "text/plain": [
       "0.3979591836734694"
      ]
     },
     "execution_count": 11,
     "metadata": {},
     "output_type": "execute_result"
    }
   ],
   "source": [
    "10/50*40/49*39/48 + 40/50*10/49*39/48 + 40/50*39/49*10/48"
   ]
  },
  {
   "cell_type": "markdown",
   "metadata": {},
   "source": [
    "Esimerkki. Oletetaan, että lentokoneen moottorissa on moottorin toiminnan kannalta tärkeitä osia 1000 kpl. Millä todennäköisyydellä kone selviää lennosta, jos yksittäisen osan toimintavarmuudeksi lennon aikana oletetaan 99,9 %. Kertolaskusääntöä käyttäen:"
   ]
  },
  {
   "cell_type": "code",
   "execution_count": 12,
   "metadata": {},
   "outputs": [
    {
     "data": {
      "text/plain": [
       "0.36769542477096373"
      ]
     },
     "execution_count": 12,
     "metadata": {},
     "output_type": "execute_result"
    }
   ],
   "source": [
    "0.999**1000"
   ]
  },
  {
   "cell_type": "markdown",
   "metadata": {},
   "source": [
    "## Komplementtisääntö\n",
    "\n",
    "Joissain tapauksissa komplementtitapahtuman –A todennäköisyys on helpompi laskea kuin tapahtuman A todennäköisyys. Tällöin voidaan soveltaa komplementtisääntöä: \n",
    "\n",
    "**P(A) = 1 – P(-A)**\n",
    "\n",
    "Sääntö perustuu siihen tosiasiaan, että kaikkien alkeistapahtumien joukon todennäköisyys on 1. Vähentämällä kaikkien alkeistapahtumien joukon todennäköisyydestä A:n ulkopuolelle jäävien alkeistapahtumien todennäköisyys, jäljelle jää A:n todennäköisyys. \n",
    " \n",
    "Esimerkki. Oleta ydinvoimalan toimintavarmuudeksi 99,99 % (todennäköisyys, ettei voimalan käyttöiän aikana satu vakavaa onnettomuutta). Mikä on todennäköisyys, että vähintään yhdessä voimalassa sattuu vakava onnettomuus, jos maapallolla on 500 ydinvoimalaa?\n",
    "\n",
    "Kysyttyä todennäköisyyttä on vaikea laskea suoraan, koska onnettomuus voi sattua missä tahansa voimalassa ja onnettomuuksia voi sattua useammassakin ydinvoimalassa. Sen sijaan kannattaa käyttää hyväksi komplementtitapahtumaa: yhdessäkään voimalassa ei satu onnettomuutta."
   ]
  },
  {
   "cell_type": "code",
   "execution_count": 13,
   "metadata": {},
   "outputs": [
    {
     "data": {
      "text/plain": [
       "0.048772953728419166"
      ]
     },
     "execution_count": 13,
     "metadata": {},
     "output_type": "execute_result"
    }
   ],
   "source": [
    "1-0.9999**500"
   ]
  },
  {
   "cell_type": "markdown",
   "metadata": {},
   "source": [
    "Lasketaan vertailun vuoksi todennäköisyys, jos toimintavarmuudeksi oletetaankin 99,9 %:"
   ]
  },
  {
   "cell_type": "code",
   "execution_count": 14,
   "metadata": {},
   "outputs": [
    {
     "data": {
      "text/plain": [
       "0.3936210551388153"
      ]
     },
     "execution_count": 14,
     "metadata": {},
     "output_type": "execute_result"
    }
   ],
   "source": [
    "1-0.999**500"
   ]
  },
  {
   "cell_type": "markdown",
   "metadata": {},
   "source": [
    "Esimerkki. Arpajaisissa joka kolmas arpa voittaa. Ostetaan kolme arpaa. Millä todennäköisyydellä vähintään yksi arpa voittaa?\n",
    "Jos A = vähintään yksi arpa voittaa, niin sen komplementti on\n",
    "-A = yksikään arpa ei voita. -A:n todennäköisyys on helppo laskea 2/3 * 2/3 * 2/3, joten kysytty todennäköisyys on:"
   ]
  },
  {
   "cell_type": "code",
   "execution_count": 15,
   "metadata": {},
   "outputs": [
    {
     "data": {
      "text/plain": [
       "0.7037037037037037"
      ]
     },
     "execution_count": 15,
     "metadata": {},
     "output_type": "execute_result"
    }
   ],
   "source": [
    "1 - 2/3*2/3*2/3"
   ]
  },
  {
   "cell_type": "markdown",
   "metadata": {},
   "source": [
    "De Meren ongelmat: Vedonlyöntiä harrastava aatelismies de Mere pohdiskeli 1600-luvulla kannattaako lyödä vetoa seuraavien tapahtumien puolesta:\n",
    "<ul>\n",
    "    <li>vähintään yksi kuutonen neljässä nopanheitossa</li>\n",
    "    <li>vähintään yksi kuutospari heitettäessä kahta noppaa 24 kertaa.</li>\n",
    "</ul>\n",
    "De Mere tuli pohdiskeluissaan päätelmään, jonka mukaan kummassakin tapauksessa voiton todennäköisyys olisi 2/3. Esimerkiksi ensimmäisessä tapauksessa de Mere laskeskeli 1/6+1/6+1/6+1/6=2/3. Aikansa vetoja lyötyään de Mere alkoi epäillä päättelyään. Mitä mieltä olet de Meren laskelmista?"
   ]
  }
 ],
 "metadata": {
  "kernelspec": {
   "display_name": "Python 3 (ipykernel)",
   "language": "python",
   "name": "python3"
  },
  "language_info": {
   "codemirror_mode": {
    "name": "ipython",
    "version": 3
   },
   "file_extension": ".py",
   "mimetype": "text/x-python",
   "name": "python",
   "nbconvert_exporter": "python",
   "pygments_lexer": "ipython3",
   "version": "3.13.2"
  }
 },
 "nbformat": 4,
 "nbformat_minor": 4
}
