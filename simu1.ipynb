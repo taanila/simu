{
 "cells": [
  {
   "cell_type": "code",
   "execution_count": 1,
   "metadata": {},
   "outputs": [],
   "source": [
    "import numpy as np\n",
    "import pandas as pd\n",
    "import matplotlib.pyplot as plt"
   ]
  },
  {
   "cell_type": "markdown",
   "metadata": {},
   "source": [
    "<h2>Kolikon heittoa</h2>\n",
    "\n",
    "Seuraavassa simuloin ensiksi kolikon heittoa miljoona kertaa.\n",
    "Tulokset tallennan flips-nimiseen muuttujaan.\n",
    "\n",
    "Seuraavaksi lasken sequences-nimiseen muuttujaan, kuinka monta kertaa sama tulos tulee peräkkäin.\n",
    "\n",
    "Tulostan kahdella eri menetelmällä eri pituisten saman tuloksen jonojen lukumäärät."
   ]
  },
  {
   "cell_type": "code",
   "execution_count": 2,
   "metadata": {},
   "outputs": [
    {
     "name": "stdout",
     "output_type": "stream",
     "text": [
      "Heads: 499944 Tails: 500056\n"
     ]
    }
   ],
   "source": [
    "flips = np.random.randint(2, size = 1000000) #tuottaa sattumanvaraisesti ykkösiä ja nollia\n",
    "\n",
    "print('Heads:', str(np.sum(flips)), 'Tails:', str(np.sum(1-flips)))"
   ]
  },
  {
   "cell_type": "code",
   "execution_count": 3,
   "metadata": {},
   "outputs": [],
   "source": [
    "sequences = []\n",
    "sequence = 1\n",
    "\n",
    "for i in range(len(flips)-1):\n",
    "    if flips[i]==flips[i+1]:\n",
    "        sequence+=1\n",
    "    else:\n",
    "        sequences.append(sequence)\n",
    "        sequence = 1"
   ]
  },
  {
   "cell_type": "code",
   "execution_count": 4,
   "metadata": {},
   "outputs": [
    {
     "name": "stdout",
     "output_type": "stream",
     "text": [
      "Counter({1: 250916, 2: 124916, 3: 62461, 4: 31247, 5: 15708, 6: 7784, 7: 3876, 8: 1970, 9: 920, 10: 496, 11: 224, 12: 115, 13: 66, 14: 22, 15: 16, 16: 9, 17: 3, 19: 1, 22: 1, 18: 1})\n"
     ]
    }
   ],
   "source": [
    "import collections\n",
    "\n",
    "counter=collections.Counter(sequences)\n",
    "print(counter)"
   ]
  },
  {
   "cell_type": "code",
   "execution_count": 5,
   "metadata": {},
   "outputs": [
    {
     "data": {
      "text/plain": [
       "(array([ 1,  2,  3,  4,  5,  6,  7,  8,  9, 10, 11, 12, 13, 14, 15, 16, 17,\n",
       "        18, 19, 22]),\n",
       " array([250916, 124916,  62461,  31247,  15708,   7784,   3876,   1970,\n",
       "           920,    496,    224,    115,     66,     22,     16,      9,\n",
       "             3,      1,      1,      1], dtype=int64))"
      ]
     },
     "execution_count": 5,
     "metadata": {},
     "output_type": "execute_result"
    }
   ],
   "source": [
    "np.unique(sequences, return_counts=True)"
   ]
  },
  {
   "cell_type": "markdown",
   "metadata": {},
   "source": [
    "<h2>Kahden nopan heittoa</h2>\n",
    "\n",
    "Seuraavassa heitän kahta noppaa tuhat kertaa.\n",
    "Maskien avulla saan kätevästi selville eri silmälukujen määrät kummallekin nopalle ja parien määrät.\n",
    "\n",
    "Tuotan otsikoidun tulostaulukon dataframea käyttäen.\n",
    "\n",
    "Lopuksi tulostan silmälukujen summien lukumäärät pylväskaaviona."
   ]
  },
  {
   "cell_type": "code",
   "execution_count": 6,
   "metadata": {},
   "outputs": [
    {
     "name": "stdout",
     "output_type": "stream",
     "text": [
      "1 177 165 25\n",
      "2 161 153 25\n",
      "3 165 144 29\n",
      "4 168 201 31\n",
      "5 148 155 24\n",
      "6 181 182 28\n"
     ]
    }
   ],
   "source": [
    "rolls = np.random.randint(6, size = (1000, 2)) + 1\n",
    "\n",
    "for i in range(1, 7):\n",
    "    mask1 = rolls[:,0] == i #ensimmäinen noppa\n",
    "    mask2 = rolls[:,1] == i #toinen noppa\n",
    "    mask3 = mask1 & mask2 #pari (molemmilla sama tulos)\n",
    "    print(i, mask1.sum(), mask2.sum(), mask3.sum())"
   ]
  },
  {
   "cell_type": "code",
   "execution_count": 7,
   "metadata": {},
   "outputs": [
    {
     "name": "stdout",
     "output_type": "stream",
     "text": [
      "Dots Dice1 Dice2 Pairs\n",
      "   1   177   165    25\n",
      "   2   161   153    25\n",
      "   3   165   144    29\n",
      "   4   168   201    31\n",
      "   5   148   155    24\n",
      "   6   181   182    28\n"
     ]
    }
   ],
   "source": [
    "results = pd.DataFrame(columns = ['Dots', 'Dice1', 'Dice2', 'Pairs'])\n",
    "\n",
    "for i in range(1, 7):\n",
    "    mask1 = rolls[:,0] == i\n",
    "    mask2 = rolls[:,1] == i\n",
    "    mask3 = mask1 & mask2\n",
    "    results = results.append({'Dots':i, 'Dice1':mask1.sum(), 'Dice2':mask2.sum(), 'Pairs':mask3.sum()}, ignore_index=True)\n",
    "    \n",
    "print(results.to_string(index=False))"
   ]
  },
  {
   "cell_type": "code",
   "execution_count": 8,
   "metadata": {},
   "outputs": [
    {
     "data": {
      "image/png": "[encoded data removed]",
      "text/plain": [
       "<Figure size 432x288 with 1 Axes>"
      ]
     },
     "metadata": {
      "needs_background": "light"
     },
     "output_type": "display_data"
    }
   ],
   "source": [
    "df = pd.DataFrame(rolls)\n",
    "df['sum'] = df.sum(axis=1)\n",
    "\n",
    "ax = df['sum'].value_counts(sort=False).plot.bar()\n",
    "\n",
    "#Pientä tuunausta\n",
    "ax.set_xlabel('Silmälukujen summa')\n",
    "ax.set_ylabel('Esiintymiskertojen lukumäärä')\n",
    "ax.grid(axis='y')\n",
    "ax.set_axisbelow(True)"
   ]
  }
 ],
 "metadata": {
  "kernelspec": {
   "display_name": "Python 3",
   "language": "python",
   "name": "python3"
  },
  "language_info": {
   "codemirror_mode": {
    "name": "ipython",
    "version": 3
   },
   "file_extension": ".py",
   "mimetype": "text/x-python",
   "name": "python",
   "nbconvert_exporter": "python",
   "pygments_lexer": "ipython3",
   "version": "3.7.2"
  }
 },
 "nbformat": 4,
 "nbformat_minor": 2
}
