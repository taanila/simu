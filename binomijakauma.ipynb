{
 "cells": [
  {
   "cell_type": "code",
   "execution_count": 1,
   "metadata": {},
   "outputs": [],
   "source": [
    "import pandas as pd\n",
    "import matplotlib.pyplot as plt\n",
    "from scipy.stats import binom\n",
    "\n",
    "%matplotlib inline"
   ]
  },
  {
   "cell_type": "markdown",
   "metadata": {},
   "source": [
    "<h1>Binomijakauma</h1>\n",
    "\n",
    "Oletetaan onnenpyörä, jota pyöräyttämällä voittaa 15 % todennäköisyydellä. Useampaan onnenpyörän pyöräytykseen voidaan liittää todennäköisyysjakauma käyttäen voittojen lukumäärää satunnaismuuttujana. Esimerkiksi viidelle pyöräytykselle saadaan jakaumaksi:"
   ]
  },
  {
   "cell_type": "code",
   "execution_count": 2,
   "metadata": {},
   "outputs": [
    {
     "data": {
      "text/html": [
       "<div>\n",
       "<style scoped>\n",
       "    .dataframe tbody tr th:only-of-type {\n",
       "        vertical-align: middle;\n",
       "    }\n",
       "\n",
       "    .dataframe tbody tr th {\n",
       "        vertical-align: top;\n",
       "    }\n",
       "\n",
       "    .dataframe thead th {\n",
       "        text-align: right;\n",
       "    }\n",
       "</style>\n",
       "<table border=\"1\" class=\"dataframe\">\n",
       "  <thead>\n",
       "    <tr style=\"text-align: right;\">\n",
       "      <th></th>\n",
       "      <th>Todennäköisyys</th>\n",
       "    </tr>\n",
       "    <tr>\n",
       "      <th>Voittoja</th>\n",
       "      <th></th>\n",
       "    </tr>\n",
       "  </thead>\n",
       "  <tbody>\n",
       "    <tr>\n",
       "      <th>0</th>\n",
       "      <td>0.443705</td>\n",
       "    </tr>\n",
       "    <tr>\n",
       "      <th>1</th>\n",
       "      <td>0.391505</td>\n",
       "    </tr>\n",
       "    <tr>\n",
       "      <th>2</th>\n",
       "      <td>0.138178</td>\n",
       "    </tr>\n",
       "    <tr>\n",
       "      <th>3</th>\n",
       "      <td>0.024384</td>\n",
       "    </tr>\n",
       "    <tr>\n",
       "      <th>4</th>\n",
       "      <td>0.002152</td>\n",
       "    </tr>\n",
       "    <tr>\n",
       "      <th>5</th>\n",
       "      <td>0.000076</td>\n",
       "    </tr>\n",
       "  </tbody>\n",
       "</table>\n",
       "</div>"
      ],
      "text/plain": [
       "          Todennäköisyys\n",
       "Voittoja                \n",
       "0               0.443705\n",
       "1               0.391505\n",
       "2               0.138178\n",
       "3               0.024384\n",
       "4               0.002152\n",
       "5               0.000076"
      ]
     },
     "execution_count": 2,
     "metadata": {},
     "output_type": "execute_result"
    }
   ],
   "source": [
    "n = 5 #toistojen määrä\n",
    "p = 0.15 #onnistumisen todennäköisyys\n",
    "r_values = list(range(n + 1)) #mahdolliset onnistumisten määrät\n",
    "  \n",
    "dist = [binom.pmf(r, n, p) for r in r_values] \n",
    " \n",
    "onnenpyora = pd.DataFrame({'Todennäköisyys': dist})\n",
    "onnenpyora.index.name = 'Voittoja'\n",
    "onnenpyora"
   ]
  },
  {
   "cell_type": "markdown",
   "metadata": {},
   "source": [
    "Jakauman todennäköisyyksien laskeminen perustuu binomijakaumaan. Binomijakaumaa voidaan soveltaa, jos satunnaisilmiö ja satunnaismuuttuja toteuttavat seuraavat ehdot:\n",
    "<ul>\n",
    "    <li>Satunnaisilmiötä toistetaan useita kertoja (toistojen määrää merkitään n)</li>\n",
    "<li>Satunnaismuuttujan arvot voidaan jakaa täsmälleen kahteen luokkaan, joiden todennäköisyydet tiedetään. Jos toisen todennäköisyyttä merkitään p, niin toisen todennäköisyys on 1 - p</li>\n",
    "    <li>Satunnaismuuttujan arvojen todennäköisyydet pysyvät vakioina toistokerrasta toiseen.</li>\n",
    "</ul>    \n",
    "Edellä tarkasteltu onnenpyörä toteuttaa mainitut ehdot:\n",
    "<ul>\n",
    "    <li>Satunnaisilmiötä toistetaan 5 kertaa</li>\n",
    "    <li>Satunnaismuuttujalla on kaksi arvoa: voitto, ei voittoa</li>\n",
    "    <li>Voiton todennäköisyys on vakio p = 15 %.</li>\n",
    "</ul>\n",
    "<b>binom.pmf</b>-funkitolla (probability mass function) voidaan laskea todennäköisyys sille, että satunnaisilmiötä n kertaa toistettaessa saadaan k kappaletta onnistumisia (jompaa kumpaa satunnaismuuttujan arvoista on tapana kutsua onnistumiseksi). Laskentakaavan löydät esimerkiksi funktion ohjesivulta: \n",
    "\n",
    "https://docs.scipy.org/doc/scipy/reference/generated/scipy.stats.binom.html\n",
    "\n",
    "<b>binom.cdf</b>-funktiolla (cumulative distribution function) saat kätevästi kertymätodennäköisyydet.\n",
    "\n",
    "Muita esimerkkejä binomijakautuneista satunnaismuuttujista:\n",
    "<ul>\n",
    "    <li>klaavojen määrä heitettäessä kolikkoa 10 kertaa</li>\n",
    "<lI>kuutosten määrä heitettäessä kahta noppaa 24 kertaa</li>\n",
    "<li>voittojen määrä ostettaessa 6 arpaa arpajaisista, joissa joka kolmas arpa voittaa</li>\n",
    "<li>punaisten lukumäärä 15 ruletin pyörityksessä</li>\n",
    "<li>viallisten lukumäärä viiden tuotteen erässä</li>\n",
    "<li>ydinvoiman kannattajien määrä 1000 henkilön otoksessa</li>\n",
    "<li>ostavien asiakkaiden määrä sisään saapuneista 100 asiakkaasta.</li>\n",
    "</ul>\n",
    "\n",
    "Esimerkki. Joka kolmas arpa voittaa. Katsotaanpa miten käy, kun ostetaan kuusi arpaa. Voittojen lukumäärä noudattaa binomijakaumaa:\n",
    "<ul>\n",
    "    <li>arvan osto toistetaan 6 kertaa (n=6)</li>\n",
    "    <li>arpa voi voittaa tai sitten ei, voiton todennäköisyys p=1/3</li>\n",
    "<li>Voiton todennäköisyys pysyy vakiona (oletetaan, että arpaerä on niin iso, ettei voittoarvon nostaminen olennaisesti muuta voiton todennäköisyyttä seuraavilla arvoilla).</li>\n",
    "</ul> "
   ]
  },
  {
   "cell_type": "code",
   "execution_count": 3,
   "metadata": {},
   "outputs": [
    {
     "data": {
      "text/html": [
       "<div>\n",
       "<style scoped>\n",
       "    .dataframe tbody tr th:only-of-type {\n",
       "        vertical-align: middle;\n",
       "    }\n",
       "\n",
       "    .dataframe tbody tr th {\n",
       "        vertical-align: top;\n",
       "    }\n",
       "\n",
       "    .dataframe thead th {\n",
       "        text-align: right;\n",
       "    }\n",
       "</style>\n",
       "<table border=\"1\" class=\"dataframe\">\n",
       "  <thead>\n",
       "    <tr style=\"text-align: right;\">\n",
       "      <th></th>\n",
       "      <th>Todennäköisyys</th>\n",
       "      <th>Kertymä</th>\n",
       "    </tr>\n",
       "    <tr>\n",
       "      <th>Voittoja</th>\n",
       "      <th></th>\n",
       "      <th></th>\n",
       "    </tr>\n",
       "  </thead>\n",
       "  <tbody>\n",
       "    <tr>\n",
       "      <th>0</th>\n",
       "      <td>0.087791</td>\n",
       "      <td>0.087791</td>\n",
       "    </tr>\n",
       "    <tr>\n",
       "      <th>1</th>\n",
       "      <td>0.263374</td>\n",
       "      <td>0.351166</td>\n",
       "    </tr>\n",
       "    <tr>\n",
       "      <th>2</th>\n",
       "      <td>0.329218</td>\n",
       "      <td>0.680384</td>\n",
       "    </tr>\n",
       "    <tr>\n",
       "      <th>3</th>\n",
       "      <td>0.219479</td>\n",
       "      <td>0.899863</td>\n",
       "    </tr>\n",
       "    <tr>\n",
       "      <th>4</th>\n",
       "      <td>0.082305</td>\n",
       "      <td>0.982167</td>\n",
       "    </tr>\n",
       "    <tr>\n",
       "      <th>5</th>\n",
       "      <td>0.016461</td>\n",
       "      <td>0.998628</td>\n",
       "    </tr>\n",
       "    <tr>\n",
       "      <th>6</th>\n",
       "      <td>0.001372</td>\n",
       "      <td>1.000000</td>\n",
       "    </tr>\n",
       "  </tbody>\n",
       "</table>\n",
       "</div>"
      ],
      "text/plain": [
       "          Todennäköisyys   Kertymä\n",
       "Voittoja                          \n",
       "0               0.087791  0.087791\n",
       "1               0.263374  0.351166\n",
       "2               0.329218  0.680384\n",
       "3               0.219479  0.899863\n",
       "4               0.082305  0.982167\n",
       "5               0.016461  0.998628\n",
       "6               0.001372  1.000000"
      ]
     },
     "execution_count": 3,
     "metadata": {},
     "output_type": "execute_result"
    }
   ],
   "source": [
    "n = 6 #toistojen määrä\n",
    "p = 1/3 #onnistumisen todennäköisyys\n",
    "r_values = list(range(n + 1)) #mahdolliset onnistumisten määrät\n",
    "  \n",
    "dist = [binom.pmf(r, n, p) for r in r_values] \n",
    "cum = [binom.cdf(r, n, p) for r in r_values] \n",
    "\n",
    "jakauma = pd.DataFrame({'Todennäköisyys': dist, 'Kertymä': cum})\n",
    "jakauma.index.name = 'Voittoja'\n",
    "jakauma"
   ]
  },
  {
   "cell_type": "markdown",
   "metadata": {},
   "source": [
    "Edellisen jakauman odotusarvo ja varianssi:"
   ]
  },
  {
   "cell_type": "code",
   "execution_count": 4,
   "metadata": {},
   "outputs": [
    {
     "name": "stdout",
     "output_type": "stream",
     "text": [
      "odotusarvo:  2.0\n",
      "varianssi:  1.3333333333333335\n"
     ]
    }
   ],
   "source": [
    "odotusarvo, varianssi = binom.stats(n, p) \n",
    "\n",
    "print('odotusarvo: ', str(odotusarvo)) \n",
    "print('varianssi: ', str(varianssi))"
   ]
  },
  {
   "cell_type": "code",
   "execution_count": 5,
   "metadata": {},
   "outputs": [
    {
     "data": {
      "text/plain": [
       "<matplotlib.axes._subplots.AxesSubplot at 0x1c92f3c2388>"
      ]
     },
     "execution_count": 5,
     "metadata": {},
     "output_type": "execute_result"
    },
    {
     "data": {
      "image/png": "[encoded data removed]",
      "text/plain": [
       "<Figure size 432x288 with 1 Axes>"
      ]
     },
     "metadata": {
      "needs_background": "light"
     },
     "output_type": "display_data"
    }
   ],
   "source": [
    "jakauma['Todennäköisyys'].plot.bar(title = 'Onnenpyörän voittojen todennäköisyydet (n=6, p=0,15)', \n",
    "                                   rot = 0)"
   ]
  },
  {
   "cell_type": "code",
   "execution_count": 6,
   "metadata": {},
   "outputs": [
    {
     "data": {
      "text/plain": [
       "<matplotlib.axes._subplots.AxesSubplot at 0x1c92fb4be08>"
      ]
     },
     "execution_count": 6,
     "metadata": {},
     "output_type": "execute_result"
    },
    {
     "data": {
      "image/png": "[encoded data removed]",
      "text/plain": [
       "<Figure size 432x288 with 1 Axes>"
      ]
     },
     "metadata": {
      "needs_background": "light"
     },
     "output_type": "display_data"
    }
   ],
   "source": [
    "jakauma['Kertymä'].plot.bar(title = 'Onnenpyörän voittojen kertymätodennäköisyydet (n=6, p=0,15)', \n",
    "                                   rot = 0)"
   ]
  },
  {
   "cell_type": "markdown",
   "metadata": {},
   "source": [
    "Esimerkki. Hotellit ja lentoyhtiöt ottavat yleisesti varauksia enemmän kuin paikkoja on tarjolla. Tämä perustuu kokemukseen siitä, että kaikki paikan varanneet eivät kuitenkaan saavu paikalle. No show -tapausten määrä vaihtelee, joten varmuudella ei voida laskea soveliasta ylimääräisten varausten lukumäärää. Todennäköisyysjakaumaa käyttäen voidaan kuitenkin laskea ylimääräisten varausten sovelias lukumäärä, jos esimerkiksi halutaan 90 % varmuus paikkojen riittävyydelle.\n",
    "\n",
    "Tarkastellaan tilannetta, jossa kapasiteetti on 400 ja tilastojen mukainen no-show todennäköisyys 0,05 (show todennäköisyys 95 %). Lasketaan millä varausmäärällä päästään vielä yli 90 % varmuuteen paikkojen riittävyydestä:"
   ]
  },
  {
   "cell_type": "code",
   "execution_count": 7,
   "metadata": {},
   "outputs": [
    {
     "data": {
      "text/html": [
       "<div>\n",
       "<style scoped>\n",
       "    .dataframe tbody tr th:only-of-type {\n",
       "        vertical-align: middle;\n",
       "    }\n",
       "\n",
       "    .dataframe tbody tr th {\n",
       "        vertical-align: top;\n",
       "    }\n",
       "\n",
       "    .dataframe thead th {\n",
       "        text-align: right;\n",
       "    }\n",
       "</style>\n",
       "<table border=\"1\" class=\"dataframe\">\n",
       "  <thead>\n",
       "    <tr style=\"text-align: right;\">\n",
       "      <th></th>\n",
       "      <th>Varauksia</th>\n",
       "      <th>Todennäköisyys riittävyydelle</th>\n",
       "    </tr>\n",
       "  </thead>\n",
       "  <tbody>\n",
       "    <tr>\n",
       "      <th>0</th>\n",
       "      <td>400</td>\n",
       "      <td>1.000000</td>\n",
       "    </tr>\n",
       "    <tr>\n",
       "      <th>1</th>\n",
       "      <td>401</td>\n",
       "      <td>1.000000</td>\n",
       "    </tr>\n",
       "    <tr>\n",
       "      <th>2</th>\n",
       "      <td>402</td>\n",
       "      <td>1.000000</td>\n",
       "    </tr>\n",
       "    <tr>\n",
       "      <th>3</th>\n",
       "      <td>403</td>\n",
       "      <td>1.000000</td>\n",
       "    </tr>\n",
       "    <tr>\n",
       "      <th>4</th>\n",
       "      <td>404</td>\n",
       "      <td>0.999998</td>\n",
       "    </tr>\n",
       "    <tr>\n",
       "      <th>5</th>\n",
       "      <td>405</td>\n",
       "      <td>0.999990</td>\n",
       "    </tr>\n",
       "    <tr>\n",
       "      <th>6</th>\n",
       "      <td>406</td>\n",
       "      <td>0.999958</td>\n",
       "    </tr>\n",
       "    <tr>\n",
       "      <th>7</th>\n",
       "      <td>407</td>\n",
       "      <td>0.999849</td>\n",
       "    </tr>\n",
       "    <tr>\n",
       "      <th>8</th>\n",
       "      <td>408</td>\n",
       "      <td>0.999531</td>\n",
       "    </tr>\n",
       "    <tr>\n",
       "      <th>9</th>\n",
       "      <td>409</td>\n",
       "      <td>0.998720</td>\n",
       "    </tr>\n",
       "    <tr>\n",
       "      <th>10</th>\n",
       "      <td>410</td>\n",
       "      <td>0.996879</td>\n",
       "    </tr>\n",
       "    <tr>\n",
       "      <th>11</th>\n",
       "      <td>411</td>\n",
       "      <td>0.993104</td>\n",
       "    </tr>\n",
       "    <tr>\n",
       "      <th>12</th>\n",
       "      <td>412</td>\n",
       "      <td>0.986052</td>\n",
       "    </tr>\n",
       "    <tr>\n",
       "      <th>13</th>\n",
       "      <td>413</td>\n",
       "      <td>0.973946</td>\n",
       "    </tr>\n",
       "    <tr>\n",
       "      <th>14</th>\n",
       "      <td>414</td>\n",
       "      <td>0.954716</td>\n",
       "    </tr>\n",
       "    <tr>\n",
       "      <th>15</th>\n",
       "      <td>415</td>\n",
       "      <td>0.926282</td>\n",
       "    </tr>\n",
       "    <tr>\n",
       "      <th>16</th>\n",
       "      <td>416</td>\n",
       "      <td>0.886950</td>\n",
       "    </tr>\n",
       "    <tr>\n",
       "      <th>17</th>\n",
       "      <td>417</td>\n",
       "      <td>0.835817</td>\n",
       "    </tr>\n",
       "    <tr>\n",
       "      <th>18</th>\n",
       "      <td>418</td>\n",
       "      <td>0.773105</td>\n",
       "    </tr>\n",
       "    <tr>\n",
       "      <th>19</th>\n",
       "      <td>419</td>\n",
       "      <td>0.700289</td>\n",
       "    </tr>\n",
       "  </tbody>\n",
       "</table>\n",
       "</div>"
      ],
      "text/plain": [
       "    Varauksia  Todennäköisyys riittävyydelle\n",
       "0         400                       1.000000\n",
       "1         401                       1.000000\n",
       "2         402                       1.000000\n",
       "3         403                       1.000000\n",
       "4         404                       0.999998\n",
       "5         405                       0.999990\n",
       "6         406                       0.999958\n",
       "7         407                       0.999849\n",
       "8         408                       0.999531\n",
       "9         409                       0.998720\n",
       "10        410                       0.996879\n",
       "11        411                       0.993104\n",
       "12        412                       0.986052\n",
       "13        413                       0.973946\n",
       "14        414                       0.954716\n",
       "15        415                       0.926282\n",
       "16        416                       0.886950\n",
       "17        417                       0.835817\n",
       "18        418                       0.773105\n",
       "19        419                       0.700289"
      ]
     },
     "execution_count": 7,
     "metadata": {},
     "output_type": "execute_result"
    }
   ],
   "source": [
    "p = 0.95 #varanneen saapumistodennäköisyys\n",
    "r = 400 #kapasiteetti\n",
    "n_values = list(range(r, r + 20)) #varausten määrä  \n",
    "\n",
    "cum = [binom.cdf(r, n, p) for n in n_values] \n",
    "pd.DataFrame({'Varauksia': n_values, 'Todennäköisyys riittävyydelle': cum})"
   ]
  },
  {
   "cell_type": "markdown",
   "metadata": {},
   "source": [
    "Taulukosta voidaan lukea, että varausmäärällä 415 saavutetaan noin 92,6 % todennäköisyys paikkojen riittämiselle, mutta varausmäärällä 416 todennäköisyys on jo pienempi kuin 90 %."
   ]
  }
 ],
 "metadata": {
  "kernelspec": {
   "display_name": "Python 3",
   "language": "python",
   "name": "python3"
  },
  "language_info": {
   "codemirror_mode": {
    "name": "ipython",
    "version": 3
   },
   "file_extension": ".py",
   "mimetype": "text/x-python",
   "name": "python",
   "nbconvert_exporter": "python",
   "pygments_lexer": "ipython3",
   "version": "3.7.6"
  }
 },
 "nbformat": 4,
 "nbformat_minor": 4
}
