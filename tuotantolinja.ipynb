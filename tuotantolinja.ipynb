{
 "cells": [
  {
   "attachments": {},
   "cell_type": "markdown",
   "metadata": {},
   "source": [
    "<h2>Tuotantolinjan simulointi</h2>\n",
    "\n",
    "Tuotteet saapuvat käsiteltäviksi 2 minuutin välein. Saapumisen yhteydessä tuotteet tarkistetaan ja \n",
    "virheelliset hylätään ennen käsittelyn alkamista.\n",
    "\n",
    "Jos käsittelypiste on varattu, niin tuote jää jonoon odottamaan kunnes käsittelypiste vapautuu. Käsittelyn kesto on 3 minuuttia. \n",
    "\n",
    "Simulointimallin avulla voidaan tutkia muodostuuko käsittelypisteestä pullonkaula. Koska \n",
    "tuotteiden saapumisväli (2 minuuttia) ja käsittelyaika (3 minuuttia) ovat vakioita, niin ainoa \n",
    "kiinnostuksen kohde on hylättävien osuus käsittelypisteeseen saapuvista tuotteista. Seuraavassa simuloidaan käsittelyn kestoaikoja eri hylkäysprosenteilla."
   ]
  },
  {
   "cell_type": "code",
   "execution_count": 1,
   "metadata": {},
   "outputs": [],
   "source": [
    "import numpy as np\n",
    "import pandas as pd\n",
    "import matplotlib.pyplot as plt\n",
    "%matplotlib inline"
   ]
  },
  {
   "cell_type": "code",
   "execution_count": 2,
   "metadata": {},
   "outputs": [],
   "source": [
    "TUOTTEIDEN_VÄLI = 2 #minuuttia\n",
    "KÄSITTELY_AIKA = 3 #minuuttia\n",
    "TOISTOJA = 10000"
   ]
  },
  {
   "cell_type": "code",
   "execution_count": 3,
   "metadata": {},
   "outputs": [
    {
     "name": "stdout",
     "output_type": "stream",
     "text": [
      "Hylkäysprosentti 40\n",
      "count    5986.000000\n",
      "mean        7.695122\n",
      "std         5.853069\n",
      "min         3.000000\n",
      "25%         4.000000\n",
      "50%         6.000000\n",
      "75%         9.000000\n",
      "max        49.000000\n",
      "Name: kesto, dtype: float64\n",
      "Hylkäysprosentti 42\n",
      "count    5841.000000\n",
      "mean        6.389146\n",
      "std         3.527205\n",
      "min         3.000000\n",
      "25%         4.000000\n",
      "50%         5.000000\n",
      "75%         8.000000\n",
      "max        23.000000\n",
      "Name: kesto, dtype: float64\n",
      "Hylkäysprosentti 44\n",
      "count    5597.000000\n",
      "mean        5.736466\n",
      "std         3.045529\n",
      "min         3.000000\n",
      "25%         3.000000\n",
      "50%         5.000000\n",
      "75%         7.000000\n",
      "max        22.000000\n",
      "Name: kesto, dtype: float64\n",
      "Hylkäysprosentti 46\n",
      "count    5414.000000\n",
      "mean        5.173255\n",
      "std         2.445545\n",
      "min         3.000000\n",
      "25%         3.000000\n",
      "50%         4.000000\n",
      "75%         6.000000\n",
      "max        21.000000\n",
      "Name: kesto, dtype: float64\n",
      "Hylkäysprosentti 48\n",
      "count    5245.000000\n",
      "mean        4.839657\n",
      "std         2.310068\n",
      "min         3.000000\n",
      "25%         3.000000\n",
      "50%         4.000000\n",
      "75%         6.000000\n",
      "max        23.000000\n",
      "Name: kesto, dtype: float64\n"
     ]
    }
   ],
   "source": [
    "for hylkäys_prosentti in range(40, 50, 2):\n",
    "    \n",
    "    tuotanto_linja = pd.DataFrame(index = range(0, TOISTOJA))\n",
    "    \n",
    "    tuotanto_linja['aika'] = tuotanto_linja.index * TUOTTEIDEN_VÄLI #tuotteen saapumisaika\n",
    "    \n",
    "    tuotanto_linja['hylätty'] = np.random.binomial(1, hylkäys_prosentti/100, size=TOISTOJA)\n",
    "    \n",
    "    tuotanto_linja.drop(tuotanto_linja.index[tuotanto_linja['hylätty'] == 1], inplace = True) #poistetaan hylättyjen tuotteiden rivit\n",
    "    tuotanto_linja.reset_index(drop=True, inplace=True) #indeksin resetointi 0, 1, 2, ...\n",
    "    \n",
    "    tuotanto_linja['valmis'] = tuotanto_linja['aika'] + KÄSITTELY_AIKA #käsittelyn valmistumisaika ilman jonoa\n",
    "    \n",
    "    #Seuraava for-silmukka lisää jonotusajan valmistumisaikaan\n",
    "    #Tämän for-silmukan takia simulointi on hidas!\n",
    "    for i in range(1, len(tuotanto_linja)):\n",
    "        if (tuotanto_linja.loc[i, 'aika'] < tuotanto_linja.loc[i-1, 'valmis']):\n",
    "            tuotanto_linja.loc[i, 'valmis'] += tuotanto_linja.loc[i-1,'valmis'] - tuotanto_linja.loc[i, 'aika']\n",
    "    \n",
    "    tuotanto_linja['kesto'] = tuotanto_linja['valmis'] - tuotanto_linja['aika']\n",
    "    \n",
    "    #Tunnuslukuja kokonaiskestosta (jonotusaika + käsittelyaika) eri hylkäysprosenteilla\n",
    "    print('Hylkäysprosentti', hylkäys_prosentti)\n",
    "    print(tuotanto_linja['kesto'].describe())"
   ]
  },
  {
   "cell_type": "code",
   "execution_count": 6,
   "metadata": {},
   "outputs": [
    {
     "name": "stdout",
     "output_type": "stream",
     "text": [
      "Hylkäysprosentti 33\n",
      "count    6748.000000\n",
      "mean      177.049348\n",
      "std       127.649620\n",
      "min         3.000000\n",
      "25%        32.000000\n",
      "50%       165.000000\n",
      "75%       315.000000\n",
      "max       375.000000\n",
      "Name: kesto, dtype: float64\n"
     ]
    },
    {
     "data": {
      "text/plain": [
       "<matplotlib.axes._subplots.AxesSubplot at 0x26b82e81240>"
      ]
     },
     "execution_count": 6,
     "metadata": {},
     "output_type": "execute_result"
    },
    {
     "data": {
      "image/png": "[encoded data removed]",
      "text/plain": [
       "<Figure size 432x288 with 1 Axes>"
      ]
     },
     "metadata": {
      "needs_background": "light"
     },
     "output_type": "display_data"
    }
   ],
   "source": [
    "#Keston viivakaaviosta nähdään ovatko jonot tilapäisiä vai kasvavatko jonot ajan kuluessa\n",
    "\n",
    "hylkäys_prosentti = 33\n",
    "\n",
    "tuotanto_linja = pd.DataFrame(index = range(0, TOISTOJA))\n",
    "    \n",
    "tuotanto_linja['aika'] = tuotanto_linja.index * TUOTTEIDEN_VÄLI #tuotteen saapumisaika\n",
    "    \n",
    "tuotanto_linja['hylätty'] = np.random.binomial(1, hylkäys_prosentti/100, size=TOISTOJA)\n",
    "    \n",
    "tuotanto_linja.drop(tuotanto_linja.index[tuotanto_linja['hylätty'] == 1], inplace = True) #poistetaan hylättyjen tuotteiden rivit\n",
    "tuotanto_linja.reset_index(drop=True, inplace=True) #indeksin resetointi 0, 1, 2, ...\n",
    "    \n",
    "tuotanto_linja['valmis'] = tuotanto_linja['aika'] + KÄSITTELY_AIKA #käsittelyn valmistumisaika ilman jonoa\n",
    "    \n",
    "#Seuraava for-silmukka lisää jonotusajan valmistumisaikaan\n",
    "#Tämän for-silmukan takia simulointi on hidas!\n",
    "for i in range(1, len(tuotanto_linja)):\n",
    "    if (tuotanto_linja.loc[i, 'aika'] < tuotanto_linja.loc[i-1, 'valmis']):\n",
    "        tuotanto_linja.loc[i, 'valmis'] += tuotanto_linja.loc[i-1,'valmis'] - tuotanto_linja.loc[i, 'aika']\n",
    "    \n",
    "tuotanto_linja['kesto'] = tuotanto_linja['valmis'] - tuotanto_linja['aika']\n",
    "    \n",
    "print('Hylkäysprosentti', hylkäys_prosentti)\n",
    "print(tuotanto_linja['kesto'].describe())\n",
    "tuotanto_linja['kesto'].plot()"
   ]
  }
 ],
 "metadata": {
  "kernelspec": {
   "display_name": "Python 3",
   "language": "python",
   "name": "python3"
  },
  "language_info": {
   "codemirror_mode": {
    "name": "ipython",
    "version": 3
   },
   "file_extension": ".py",
   "mimetype": "text/x-python",
   "name": "python",
   "nbconvert_exporter": "python",
   "pygments_lexer": "ipython3",
   "version": "3.7.2"
  }
 },
 "nbformat": 4,
 "nbformat_minor": 2
}
